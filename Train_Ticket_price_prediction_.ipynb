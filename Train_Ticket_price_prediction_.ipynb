{
  "nbformat": 4,
  "nbformat_minor": 0,
  "metadata": {
    "colab": {
      "provenance": [],
      "toc_visible": true,
      "authorship_tag": "ABX9TyPT1mESNF5BjQvj8UyJt0M0",
      "include_colab_link": true
    },
    "kernelspec": {
      "name": "python3",
      "display_name": "Python 3"
    },
    "language_info": {
      "name": "python"
    }
  },
  "cells": [
    {
      "cell_type": "markdown",
      "metadata": {
        "id": "view-in-github",
        "colab_type": "text"
      },
      "source": [
        "<a href=\"https://colab.research.google.com/github/Asfiya-edu/Train-Ticket-Price-Prediction-using-Machine-Learning/blob/main/Train_Ticket_price_prediction_.ipynb\" target=\"_parent\"><img src=\"https://colab.research.google.com/assets/colab-badge.svg\" alt=\"Open In Colab\"/></a>"
      ]
    },
    {
      "cell_type": "markdown",
      "source": [
        "### **Problem Statement:** Develop a regression model using historical travel package data to predict prices."
      ],
      "metadata": {
        "id": "fAjau736kTIz"
      }
    },
    {
      "cell_type": "markdown",
      "source": [
        "Dataset: [Train Price Prediction](https://drive.google.com/file/d/1mpkljxu5o4xenVe9bJu4ZbY1vkUNP8ig/view?usp=sharing)"
      ],
      "metadata": {
        "id": "V_pL1hrKoszb"
      }
    },
    {
      "cell_type": "markdown",
      "source": [
        "DATASET LINK: https://drive.google.com/file/d/1mpkljxu5o4xenVe9bJu4ZbY1vkUNP8ig/view"
      ],
      "metadata": {
        "id": "6znVNh8Xt-TW"
      }
    },
    {
      "cell_type": "markdown",
      "source": [
        "We have seen the flight price prediction. Now you are going to predict the train fare in the same way. Perform Feature selection and Encoding on the data. Apply Regression models and compare the results using the metrics."
      ],
      "metadata": {
        "id": "ZE2Q-oGZt6g7"
      }
    },
    {
      "cell_type": "code",
      "execution_count": null,
      "metadata": {
        "colab": {
          "base_uri": "https://localhost:8080/"
        },
        "id": "jo8mLar2tvcj",
        "outputId": "30370ba8-e708-4de0-ee82-0245c817b496"
      },
      "outputs": [
        {
          "output_type": "stream",
          "name": "stdout",
          "text": [
            "Drive already mounted at /content/drive; to attempt to forcibly remount, call drive.mount(\"/content/drive\", force_remount=True).\n"
          ]
        }
      ],
      "source": [
        "import numpy as np\n",
        "import pandas as pd\n",
        "import seaborn as sns\n",
        "import random\n",
        "from google.colab import drive\n",
        "drive.mount('/content/drive')\n",
        "import matplotlib.pyplot as plt"
      ]
    },
    {
      "cell_type": "code",
      "source": [
        "from sklearn.tree import DecisionTreeRegressor\n",
        "from sklearn.preprocessing import StandardScaler\n",
        "from sklearn.preprocessing import OneHotEncoder\n",
        "from sklearn.linear_model import LinearRegression\n",
        "from sklearn.ensemble import RandomForestRegressor\n",
        "from sklearn.model_selection import train_test_split, GridSearchCV\n",
        "from sklearn.metrics import mean_squared_error, mean_absolute_error, r2_score\n",
        "from sklearn.decomposition import PCA\n",
        "from sklearn.impute import SimpleImputer"
      ],
      "metadata": {
        "id": "NPUgRz-RkD_Q"
      },
      "execution_count": null,
      "outputs": []
    },
    {
      "cell_type": "code",
      "source": [
        "# Load Dataset\n",
        "filepath= \"/content/drive/MyDrive/alma better/data1.csv\"\n",
        "df = pd.read_csv(filepath)"
      ],
      "metadata": {
        "id": "VRdcdJQhe9Sf"
      },
      "execution_count": null,
      "outputs": []
    },
    {
      "cell_type": "code",
      "source": [
        "df.head(10)"
      ],
      "metadata": {
        "colab": {
          "base_uri": "https://localhost:8080/",
          "height": 363
        },
        "id": "1aM4YyHCe9Nb",
        "outputId": "6744414b-e40a-4b58-be25-8ee0aadf3a30"
      },
      "execution_count": null,
      "outputs": [
        {
          "output_type": "execute_result",
          "data": {
            "text/plain": [
              "   Unnamed: 0          insert_date      origin destination  \\\n",
              "0         702  2019-04-19 05:37:35  PONFERRADA      MADRID   \n",
              "1         703  2019-04-19 05:37:35  PONFERRADA      MADRID   \n",
              "2         704  2019-04-19 05:37:35  PONFERRADA      MADRID   \n",
              "3         705  2019-04-19 05:37:35  PONFERRADA      MADRID   \n",
              "4         706  2019-04-19 05:37:35  PONFERRADA      MADRID   \n",
              "5         989  2019-04-19 05:41:52      MADRID    VALENCIA   \n",
              "6         990  2019-04-19 05:41:52      MADRID    VALENCIA   \n",
              "7         991  2019-04-19 05:41:52      MADRID    VALENCIA   \n",
              "8         992  2019-04-19 05:42:00      MADRID    VALENCIA   \n",
              "9         993  2019-04-19 05:42:00      MADRID    VALENCIA   \n",
              "\n",
              "            start_date             end_date train_type  price  \\\n",
              "0  2019-06-02 15:00:00  2019-06-02 19:42:00     MD-AVE  59.50   \n",
              "1  2019-06-02 17:15:00  2019-06-02 23:03:00     MD-AVE  34.65   \n",
              "2  2019-06-02 17:15:00  2019-06-02 23:10:00      MD-LD  39.95   \n",
              "3  2019-06-02 17:15:00  2019-06-02 22:14:00     MD-AVE  40.60   \n",
              "4  2019-06-02 18:55:00  2019-06-02 23:03:00      ALVIA  27.90   \n",
              "5  2019-06-17 06:08:00  2019-06-17 12:55:00   REGIONAL  28.35   \n",
              "6  2019-06-17 12:21:00  2019-06-17 19:04:00   REGIONAL  28.35   \n",
              "7  2019-06-17 16:05:00  2019-06-17 22:47:00   REGIONAL  28.35   \n",
              "8  2019-06-16 06:20:00  2019-06-16 12:55:00   REGIONAL  28.35   \n",
              "9  2019-06-16 12:42:00  2019-06-16 19:04:00   REGIONAL  28.35   \n",
              "\n",
              "          train_class        fare  \n",
              "0  Turista con enlace    Flexible  \n",
              "1  Turista con enlace     Promo +  \n",
              "2  Turista con enlace     Promo +  \n",
              "3  Turista con enlace     Promo +  \n",
              "4             Turista       Promo  \n",
              "5             Turista  Adulto ida  \n",
              "6             Turista  Adulto ida  \n",
              "7             Turista  Adulto ida  \n",
              "8             Turista  Adulto ida  \n",
              "9             Turista  Adulto ida  "
            ],
            "text/html": [
              "\n",
              "  <div id=\"df-6e53a4b7-b5d8-46ed-9d3a-aefd2e88797e\" class=\"colab-df-container\">\n",
              "    <div>\n",
              "<style scoped>\n",
              "    .dataframe tbody tr th:only-of-type {\n",
              "        vertical-align: middle;\n",
              "    }\n",
              "\n",
              "    .dataframe tbody tr th {\n",
              "        vertical-align: top;\n",
              "    }\n",
              "\n",
              "    .dataframe thead th {\n",
              "        text-align: right;\n",
              "    }\n",
              "</style>\n",
              "<table border=\"1\" class=\"dataframe\">\n",
              "  <thead>\n",
              "    <tr style=\"text-align: right;\">\n",
              "      <th></th>\n",
              "      <th>Unnamed: 0</th>\n",
              "      <th>insert_date</th>\n",
              "      <th>origin</th>\n",
              "      <th>destination</th>\n",
              "      <th>start_date</th>\n",
              "      <th>end_date</th>\n",
              "      <th>train_type</th>\n",
              "      <th>price</th>\n",
              "      <th>train_class</th>\n",
              "      <th>fare</th>\n",
              "    </tr>\n",
              "  </thead>\n",
              "  <tbody>\n",
              "    <tr>\n",
              "      <th>0</th>\n",
              "      <td>702</td>\n",
              "      <td>2019-04-19 05:37:35</td>\n",
              "      <td>PONFERRADA</td>\n",
              "      <td>MADRID</td>\n",
              "      <td>2019-06-02 15:00:00</td>\n",
              "      <td>2019-06-02 19:42:00</td>\n",
              "      <td>MD-AVE</td>\n",
              "      <td>59.50</td>\n",
              "      <td>Turista con enlace</td>\n",
              "      <td>Flexible</td>\n",
              "    </tr>\n",
              "    <tr>\n",
              "      <th>1</th>\n",
              "      <td>703</td>\n",
              "      <td>2019-04-19 05:37:35</td>\n",
              "      <td>PONFERRADA</td>\n",
              "      <td>MADRID</td>\n",
              "      <td>2019-06-02 17:15:00</td>\n",
              "      <td>2019-06-02 23:03:00</td>\n",
              "      <td>MD-AVE</td>\n",
              "      <td>34.65</td>\n",
              "      <td>Turista con enlace</td>\n",
              "      <td>Promo +</td>\n",
              "    </tr>\n",
              "    <tr>\n",
              "      <th>2</th>\n",
              "      <td>704</td>\n",
              "      <td>2019-04-19 05:37:35</td>\n",
              "      <td>PONFERRADA</td>\n",
              "      <td>MADRID</td>\n",
              "      <td>2019-06-02 17:15:00</td>\n",
              "      <td>2019-06-02 23:10:00</td>\n",
              "      <td>MD-LD</td>\n",
              "      <td>39.95</td>\n",
              "      <td>Turista con enlace</td>\n",
              "      <td>Promo +</td>\n",
              "    </tr>\n",
              "    <tr>\n",
              "      <th>3</th>\n",
              "      <td>705</td>\n",
              "      <td>2019-04-19 05:37:35</td>\n",
              "      <td>PONFERRADA</td>\n",
              "      <td>MADRID</td>\n",
              "      <td>2019-06-02 17:15:00</td>\n",
              "      <td>2019-06-02 22:14:00</td>\n",
              "      <td>MD-AVE</td>\n",
              "      <td>40.60</td>\n",
              "      <td>Turista con enlace</td>\n",
              "      <td>Promo +</td>\n",
              "    </tr>\n",
              "    <tr>\n",
              "      <th>4</th>\n",
              "      <td>706</td>\n",
              "      <td>2019-04-19 05:37:35</td>\n",
              "      <td>PONFERRADA</td>\n",
              "      <td>MADRID</td>\n",
              "      <td>2019-06-02 18:55:00</td>\n",
              "      <td>2019-06-02 23:03:00</td>\n",
              "      <td>ALVIA</td>\n",
              "      <td>27.90</td>\n",
              "      <td>Turista</td>\n",
              "      <td>Promo</td>\n",
              "    </tr>\n",
              "    <tr>\n",
              "      <th>5</th>\n",
              "      <td>989</td>\n",
              "      <td>2019-04-19 05:41:52</td>\n",
              "      <td>MADRID</td>\n",
              "      <td>VALENCIA</td>\n",
              "      <td>2019-06-17 06:08:00</td>\n",
              "      <td>2019-06-17 12:55:00</td>\n",
              "      <td>REGIONAL</td>\n",
              "      <td>28.35</td>\n",
              "      <td>Turista</td>\n",
              "      <td>Adulto ida</td>\n",
              "    </tr>\n",
              "    <tr>\n",
              "      <th>6</th>\n",
              "      <td>990</td>\n",
              "      <td>2019-04-19 05:41:52</td>\n",
              "      <td>MADRID</td>\n",
              "      <td>VALENCIA</td>\n",
              "      <td>2019-06-17 12:21:00</td>\n",
              "      <td>2019-06-17 19:04:00</td>\n",
              "      <td>REGIONAL</td>\n",
              "      <td>28.35</td>\n",
              "      <td>Turista</td>\n",
              "      <td>Adulto ida</td>\n",
              "    </tr>\n",
              "    <tr>\n",
              "      <th>7</th>\n",
              "      <td>991</td>\n",
              "      <td>2019-04-19 05:41:52</td>\n",
              "      <td>MADRID</td>\n",
              "      <td>VALENCIA</td>\n",
              "      <td>2019-06-17 16:05:00</td>\n",
              "      <td>2019-06-17 22:47:00</td>\n",
              "      <td>REGIONAL</td>\n",
              "      <td>28.35</td>\n",
              "      <td>Turista</td>\n",
              "      <td>Adulto ida</td>\n",
              "    </tr>\n",
              "    <tr>\n",
              "      <th>8</th>\n",
              "      <td>992</td>\n",
              "      <td>2019-04-19 05:42:00</td>\n",
              "      <td>MADRID</td>\n",
              "      <td>VALENCIA</td>\n",
              "      <td>2019-06-16 06:20:00</td>\n",
              "      <td>2019-06-16 12:55:00</td>\n",
              "      <td>REGIONAL</td>\n",
              "      <td>28.35</td>\n",
              "      <td>Turista</td>\n",
              "      <td>Adulto ida</td>\n",
              "    </tr>\n",
              "    <tr>\n",
              "      <th>9</th>\n",
              "      <td>993</td>\n",
              "      <td>2019-04-19 05:42:00</td>\n",
              "      <td>MADRID</td>\n",
              "      <td>VALENCIA</td>\n",
              "      <td>2019-06-16 12:42:00</td>\n",
              "      <td>2019-06-16 19:04:00</td>\n",
              "      <td>REGIONAL</td>\n",
              "      <td>28.35</td>\n",
              "      <td>Turista</td>\n",
              "      <td>Adulto ida</td>\n",
              "    </tr>\n",
              "  </tbody>\n",
              "</table>\n",
              "</div>\n",
              "    <div class=\"colab-df-buttons\">\n",
              "\n",
              "  <div class=\"colab-df-container\">\n",
              "    <button class=\"colab-df-convert\" onclick=\"convertToInteractive('df-6e53a4b7-b5d8-46ed-9d3a-aefd2e88797e')\"\n",
              "            title=\"Convert this dataframe to an interactive table.\"\n",
              "            style=\"display:none;\">\n",
              "\n",
              "  <svg xmlns=\"http://www.w3.org/2000/svg\" height=\"24px\" viewBox=\"0 -960 960 960\">\n",
              "    <path d=\"M120-120v-720h720v720H120Zm60-500h600v-160H180v160Zm220 220h160v-160H400v160Zm0 220h160v-160H400v160ZM180-400h160v-160H180v160Zm440 0h160v-160H620v160ZM180-180h160v-160H180v160Zm440 0h160v-160H620v160Z\"/>\n",
              "  </svg>\n",
              "    </button>\n",
              "\n",
              "  <style>\n",
              "    .colab-df-container {\n",
              "      display:flex;\n",
              "      gap: 12px;\n",
              "    }\n",
              "\n",
              "    .colab-df-convert {\n",
              "      background-color: #E8F0FE;\n",
              "      border: none;\n",
              "      border-radius: 50%;\n",
              "      cursor: pointer;\n",
              "      display: none;\n",
              "      fill: #1967D2;\n",
              "      height: 32px;\n",
              "      padding: 0 0 0 0;\n",
              "      width: 32px;\n",
              "    }\n",
              "\n",
              "    .colab-df-convert:hover {\n",
              "      background-color: #E2EBFA;\n",
              "      box-shadow: 0px 1px 2px rgba(60, 64, 67, 0.3), 0px 1px 3px 1px rgba(60, 64, 67, 0.15);\n",
              "      fill: #174EA6;\n",
              "    }\n",
              "\n",
              "    .colab-df-buttons div {\n",
              "      margin-bottom: 4px;\n",
              "    }\n",
              "\n",
              "    [theme=dark] .colab-df-convert {\n",
              "      background-color: #3B4455;\n",
              "      fill: #D2E3FC;\n",
              "    }\n",
              "\n",
              "    [theme=dark] .colab-df-convert:hover {\n",
              "      background-color: #434B5C;\n",
              "      box-shadow: 0px 1px 3px 1px rgba(0, 0, 0, 0.15);\n",
              "      filter: drop-shadow(0px 1px 2px rgba(0, 0, 0, 0.3));\n",
              "      fill: #FFFFFF;\n",
              "    }\n",
              "  </style>\n",
              "\n",
              "    <script>\n",
              "      const buttonEl =\n",
              "        document.querySelector('#df-6e53a4b7-b5d8-46ed-9d3a-aefd2e88797e button.colab-df-convert');\n",
              "      buttonEl.style.display =\n",
              "        google.colab.kernel.accessAllowed ? 'block' : 'none';\n",
              "\n",
              "      async function convertToInteractive(key) {\n",
              "        const element = document.querySelector('#df-6e53a4b7-b5d8-46ed-9d3a-aefd2e88797e');\n",
              "        const dataTable =\n",
              "          await google.colab.kernel.invokeFunction('convertToInteractive',\n",
              "                                                    [key], {});\n",
              "        if (!dataTable) return;\n",
              "\n",
              "        const docLinkHtml = 'Like what you see? Visit the ' +\n",
              "          '<a target=\"_blank\" href=https://colab.research.google.com/notebooks/data_table.ipynb>data table notebook</a>'\n",
              "          + ' to learn more about interactive tables.';\n",
              "        element.innerHTML = '';\n",
              "        dataTable['output_type'] = 'display_data';\n",
              "        await google.colab.output.renderOutput(dataTable, element);\n",
              "        const docLink = document.createElement('div');\n",
              "        docLink.innerHTML = docLinkHtml;\n",
              "        element.appendChild(docLink);\n",
              "      }\n",
              "    </script>\n",
              "  </div>\n",
              "\n",
              "\n",
              "<div id=\"df-cb950c45-ac7b-447f-94e0-9d512a6dc108\">\n",
              "  <button class=\"colab-df-quickchart\" onclick=\"quickchart('df-cb950c45-ac7b-447f-94e0-9d512a6dc108')\"\n",
              "            title=\"Suggest charts\"\n",
              "            style=\"display:none;\">\n",
              "\n",
              "<svg xmlns=\"http://www.w3.org/2000/svg\" height=\"24px\"viewBox=\"0 0 24 24\"\n",
              "     width=\"24px\">\n",
              "    <g>\n",
              "        <path d=\"M19 3H5c-1.1 0-2 .9-2 2v14c0 1.1.9 2 2 2h14c1.1 0 2-.9 2-2V5c0-1.1-.9-2-2-2zM9 17H7v-7h2v7zm4 0h-2V7h2v10zm4 0h-2v-4h2v4z\"/>\n",
              "    </g>\n",
              "</svg>\n",
              "  </button>\n",
              "\n",
              "<style>\n",
              "  .colab-df-quickchart {\n",
              "      --bg-color: #E8F0FE;\n",
              "      --fill-color: #1967D2;\n",
              "      --hover-bg-color: #E2EBFA;\n",
              "      --hover-fill-color: #174EA6;\n",
              "      --disabled-fill-color: #AAA;\n",
              "      --disabled-bg-color: #DDD;\n",
              "  }\n",
              "\n",
              "  [theme=dark] .colab-df-quickchart {\n",
              "      --bg-color: #3B4455;\n",
              "      --fill-color: #D2E3FC;\n",
              "      --hover-bg-color: #434B5C;\n",
              "      --hover-fill-color: #FFFFFF;\n",
              "      --disabled-bg-color: #3B4455;\n",
              "      --disabled-fill-color: #666;\n",
              "  }\n",
              "\n",
              "  .colab-df-quickchart {\n",
              "    background-color: var(--bg-color);\n",
              "    border: none;\n",
              "    border-radius: 50%;\n",
              "    cursor: pointer;\n",
              "    display: none;\n",
              "    fill: var(--fill-color);\n",
              "    height: 32px;\n",
              "    padding: 0;\n",
              "    width: 32px;\n",
              "  }\n",
              "\n",
              "  .colab-df-quickchart:hover {\n",
              "    background-color: var(--hover-bg-color);\n",
              "    box-shadow: 0 1px 2px rgba(60, 64, 67, 0.3), 0 1px 3px 1px rgba(60, 64, 67, 0.15);\n",
              "    fill: var(--button-hover-fill-color);\n",
              "  }\n",
              "\n",
              "  .colab-df-quickchart-complete:disabled,\n",
              "  .colab-df-quickchart-complete:disabled:hover {\n",
              "    background-color: var(--disabled-bg-color);\n",
              "    fill: var(--disabled-fill-color);\n",
              "    box-shadow: none;\n",
              "  }\n",
              "\n",
              "  .colab-df-spinner {\n",
              "    border: 2px solid var(--fill-color);\n",
              "    border-color: transparent;\n",
              "    border-bottom-color: var(--fill-color);\n",
              "    animation:\n",
              "      spin 1s steps(1) infinite;\n",
              "  }\n",
              "\n",
              "  @keyframes spin {\n",
              "    0% {\n",
              "      border-color: transparent;\n",
              "      border-bottom-color: var(--fill-color);\n",
              "      border-left-color: var(--fill-color);\n",
              "    }\n",
              "    20% {\n",
              "      border-color: transparent;\n",
              "      border-left-color: var(--fill-color);\n",
              "      border-top-color: var(--fill-color);\n",
              "    }\n",
              "    30% {\n",
              "      border-color: transparent;\n",
              "      border-left-color: var(--fill-color);\n",
              "      border-top-color: var(--fill-color);\n",
              "      border-right-color: var(--fill-color);\n",
              "    }\n",
              "    40% {\n",
              "      border-color: transparent;\n",
              "      border-right-color: var(--fill-color);\n",
              "      border-top-color: var(--fill-color);\n",
              "    }\n",
              "    60% {\n",
              "      border-color: transparent;\n",
              "      border-right-color: var(--fill-color);\n",
              "    }\n",
              "    80% {\n",
              "      border-color: transparent;\n",
              "      border-right-color: var(--fill-color);\n",
              "      border-bottom-color: var(--fill-color);\n",
              "    }\n",
              "    90% {\n",
              "      border-color: transparent;\n",
              "      border-bottom-color: var(--fill-color);\n",
              "    }\n",
              "  }\n",
              "</style>\n",
              "\n",
              "  <script>\n",
              "    async function quickchart(key) {\n",
              "      const quickchartButtonEl =\n",
              "        document.querySelector('#' + key + ' button');\n",
              "      quickchartButtonEl.disabled = true;  // To prevent multiple clicks.\n",
              "      quickchartButtonEl.classList.add('colab-df-spinner');\n",
              "      try {\n",
              "        const charts = await google.colab.kernel.invokeFunction(\n",
              "            'suggestCharts', [key], {});\n",
              "      } catch (error) {\n",
              "        console.error('Error during call to suggestCharts:', error);\n",
              "      }\n",
              "      quickchartButtonEl.classList.remove('colab-df-spinner');\n",
              "      quickchartButtonEl.classList.add('colab-df-quickchart-complete');\n",
              "    }\n",
              "    (() => {\n",
              "      let quickchartButtonEl =\n",
              "        document.querySelector('#df-cb950c45-ac7b-447f-94e0-9d512a6dc108 button');\n",
              "      quickchartButtonEl.style.display =\n",
              "        google.colab.kernel.accessAllowed ? 'block' : 'none';\n",
              "    })();\n",
              "  </script>\n",
              "</div>\n",
              "\n",
              "    </div>\n",
              "  </div>\n"
            ],
            "application/vnd.google.colaboratory.intrinsic+json": {
              "type": "dataframe",
              "variable_name": "df"
            }
          },
          "metadata": {},
          "execution_count": 193
        }
      ]
    },
    {
      "cell_type": "markdown",
      "source": [
        "## **Data Statistics**"
      ],
      "metadata": {
        "id": "AanSLxJUkrOR"
      }
    },
    {
      "cell_type": "markdown",
      "source": [
        "### **Following is the description for columns in the dataset**\n",
        "\n",
        "**insert_date:** date and time when the price was collected and written in the database\n",
        "\n",
        "**origin:** origin city\n",
        "\n",
        "**destination:** destination city\n",
        "\n",
        "**start_date:** train departure time\n",
        "\n",
        "**end_date:** train arrival time\n",
        "\n",
        "**train_type:** train service name\n",
        "\n",
        "**price:** price\n",
        "\n",
        "**train_class:** ticket class, tourist, business, etc.\n",
        "\n",
        "**fare:** ticket fare, round trip, etc"
      ],
      "metadata": {
        "id": "-jMM-YYJspES"
      }
    },
    {
      "cell_type": "code",
      "source": [
        "print(df.apply(lambda col:col.unique()))"
      ],
      "metadata": {
        "colab": {
          "base_uri": "https://localhost:8080/"
        },
        "id": "kPxzGMe2tWi1",
        "outputId": "3b88c54f-088f-48fc-d023-858f4732c508"
      },
      "execution_count": null,
      "outputs": [
        {
          "output_type": "stream",
          "name": "stdout",
          "text": [
            "Unnamed: 0     [702, 703, 704, 705, 706, 989, 990, 991, 992, ...\n",
            "insert_date    [2019-04-19 05:37:35, 2019-04-19 05:41:52, 201...\n",
            "origin         [PONFERRADA, MADRID, SEVILLA, VALENCIA, BARCEL...\n",
            "destination    [MADRID, VALENCIA, BARCELONA, PONFERRADA, SEVI...\n",
            "start_date     [2019-06-02 15:00:00, 2019-06-02 17:15:00, 201...\n",
            "end_date       [2019-06-02 19:42:00, 2019-06-02 23:03:00, 201...\n",
            "train_type     [MD-AVE, MD-LD, ALVIA, REGIONAL, AVE, INTERCIT...\n",
            "price          [59.5, 34.65, 39.95, 40.6, 27.9, 28.35, 21.95,...\n",
            "train_class    [Turista con enlace, Turista, Preferente, Turi...\n",
            "fare           [Flexible, Promo +, Promo, Adulto ida, Mesa, nan]\n",
            "dtype: object\n"
          ]
        }
      ]
    },
    {
      "cell_type": "code",
      "source": [
        "unique_value_counts = {}\n",
        "for column in df:\n",
        "    unique_values = df.iloc[:, df.columns.get_loc(column)].unique()\n",
        "    unique_value_counts[column] = len(unique_values)\n",
        "\n",
        "unique_value_counts"
      ],
      "metadata": {
        "colab": {
          "base_uri": "https://localhost:8080/"
        },
        "id": "fsICRhKfvnvF",
        "outputId": "827b5f5c-9b82-494d-8da9-f5e8f1386d83"
      },
      "execution_count": null,
      "outputs": [
        {
          "output_type": "execute_result",
          "data": {
            "text/plain": [
              "{'Unnamed: 0': 215909,\n",
              " 'insert_date': 30543,\n",
              " 'origin': 5,\n",
              " 'destination': 5,\n",
              " 'start_date': 2231,\n",
              " 'end_date': 2870,\n",
              " 'train_type': 16,\n",
              " 'price': 142,\n",
              " 'train_class': 6,\n",
              " 'fare': 6}"
            ]
          },
          "metadata": {},
          "execution_count": 195
        }
      ]
    },
    {
      "cell_type": "code",
      "source": [
        "df.describe()"
      ],
      "metadata": {
        "colab": {
          "base_uri": "https://localhost:8080/",
          "height": 300
        },
        "id": "DOo8CohGjMZl",
        "outputId": "8e619fff-993f-42c8-d1e5-8d503c7d58a3"
      },
      "execution_count": null,
      "outputs": [
        {
          "output_type": "execute_result",
          "data": {
            "text/plain": [
              "         Unnamed: 0          price\n",
              "count  2.159090e+05  202321.000000\n",
              "mean   1.303185e+06      56.723877\n",
              "std    6.071288e+05      25.531787\n",
              "min    7.020000e+02      16.600000\n",
              "25%    9.026100e+05      28.350000\n",
              "50%    1.427927e+06      53.400000\n",
              "75%    1.575116e+06      76.300000\n",
              "max    2.579721e+06     206.800000"
            ],
            "text/html": [
              "\n",
              "  <div id=\"df-6945bf65-5d27-41b5-87f7-e307411df42d\" class=\"colab-df-container\">\n",
              "    <div>\n",
              "<style scoped>\n",
              "    .dataframe tbody tr th:only-of-type {\n",
              "        vertical-align: middle;\n",
              "    }\n",
              "\n",
              "    .dataframe tbody tr th {\n",
              "        vertical-align: top;\n",
              "    }\n",
              "\n",
              "    .dataframe thead th {\n",
              "        text-align: right;\n",
              "    }\n",
              "</style>\n",
              "<table border=\"1\" class=\"dataframe\">\n",
              "  <thead>\n",
              "    <tr style=\"text-align: right;\">\n",
              "      <th></th>\n",
              "      <th>Unnamed: 0</th>\n",
              "      <th>price</th>\n",
              "    </tr>\n",
              "  </thead>\n",
              "  <tbody>\n",
              "    <tr>\n",
              "      <th>count</th>\n",
              "      <td>2.159090e+05</td>\n",
              "      <td>202321.000000</td>\n",
              "    </tr>\n",
              "    <tr>\n",
              "      <th>mean</th>\n",
              "      <td>1.303185e+06</td>\n",
              "      <td>56.723877</td>\n",
              "    </tr>\n",
              "    <tr>\n",
              "      <th>std</th>\n",
              "      <td>6.071288e+05</td>\n",
              "      <td>25.531787</td>\n",
              "    </tr>\n",
              "    <tr>\n",
              "      <th>min</th>\n",
              "      <td>7.020000e+02</td>\n",
              "      <td>16.600000</td>\n",
              "    </tr>\n",
              "    <tr>\n",
              "      <th>25%</th>\n",
              "      <td>9.026100e+05</td>\n",
              "      <td>28.350000</td>\n",
              "    </tr>\n",
              "    <tr>\n",
              "      <th>50%</th>\n",
              "      <td>1.427927e+06</td>\n",
              "      <td>53.400000</td>\n",
              "    </tr>\n",
              "    <tr>\n",
              "      <th>75%</th>\n",
              "      <td>1.575116e+06</td>\n",
              "      <td>76.300000</td>\n",
              "    </tr>\n",
              "    <tr>\n",
              "      <th>max</th>\n",
              "      <td>2.579721e+06</td>\n",
              "      <td>206.800000</td>\n",
              "    </tr>\n",
              "  </tbody>\n",
              "</table>\n",
              "</div>\n",
              "    <div class=\"colab-df-buttons\">\n",
              "\n",
              "  <div class=\"colab-df-container\">\n",
              "    <button class=\"colab-df-convert\" onclick=\"convertToInteractive('df-6945bf65-5d27-41b5-87f7-e307411df42d')\"\n",
              "            title=\"Convert this dataframe to an interactive table.\"\n",
              "            style=\"display:none;\">\n",
              "\n",
              "  <svg xmlns=\"http://www.w3.org/2000/svg\" height=\"24px\" viewBox=\"0 -960 960 960\">\n",
              "    <path d=\"M120-120v-720h720v720H120Zm60-500h600v-160H180v160Zm220 220h160v-160H400v160Zm0 220h160v-160H400v160ZM180-400h160v-160H180v160Zm440 0h160v-160H620v160ZM180-180h160v-160H180v160Zm440 0h160v-160H620v160Z\"/>\n",
              "  </svg>\n",
              "    </button>\n",
              "\n",
              "  <style>\n",
              "    .colab-df-container {\n",
              "      display:flex;\n",
              "      gap: 12px;\n",
              "    }\n",
              "\n",
              "    .colab-df-convert {\n",
              "      background-color: #E8F0FE;\n",
              "      border: none;\n",
              "      border-radius: 50%;\n",
              "      cursor: pointer;\n",
              "      display: none;\n",
              "      fill: #1967D2;\n",
              "      height: 32px;\n",
              "      padding: 0 0 0 0;\n",
              "      width: 32px;\n",
              "    }\n",
              "\n",
              "    .colab-df-convert:hover {\n",
              "      background-color: #E2EBFA;\n",
              "      box-shadow: 0px 1px 2px rgba(60, 64, 67, 0.3), 0px 1px 3px 1px rgba(60, 64, 67, 0.15);\n",
              "      fill: #174EA6;\n",
              "    }\n",
              "\n",
              "    .colab-df-buttons div {\n",
              "      margin-bottom: 4px;\n",
              "    }\n",
              "\n",
              "    [theme=dark] .colab-df-convert {\n",
              "      background-color: #3B4455;\n",
              "      fill: #D2E3FC;\n",
              "    }\n",
              "\n",
              "    [theme=dark] .colab-df-convert:hover {\n",
              "      background-color: #434B5C;\n",
              "      box-shadow: 0px 1px 3px 1px rgba(0, 0, 0, 0.15);\n",
              "      filter: drop-shadow(0px 1px 2px rgba(0, 0, 0, 0.3));\n",
              "      fill: #FFFFFF;\n",
              "    }\n",
              "  </style>\n",
              "\n",
              "    <script>\n",
              "      const buttonEl =\n",
              "        document.querySelector('#df-6945bf65-5d27-41b5-87f7-e307411df42d button.colab-df-convert');\n",
              "      buttonEl.style.display =\n",
              "        google.colab.kernel.accessAllowed ? 'block' : 'none';\n",
              "\n",
              "      async function convertToInteractive(key) {\n",
              "        const element = document.querySelector('#df-6945bf65-5d27-41b5-87f7-e307411df42d');\n",
              "        const dataTable =\n",
              "          await google.colab.kernel.invokeFunction('convertToInteractive',\n",
              "                                                    [key], {});\n",
              "        if (!dataTable) return;\n",
              "\n",
              "        const docLinkHtml = 'Like what you see? Visit the ' +\n",
              "          '<a target=\"_blank\" href=https://colab.research.google.com/notebooks/data_table.ipynb>data table notebook</a>'\n",
              "          + ' to learn more about interactive tables.';\n",
              "        element.innerHTML = '';\n",
              "        dataTable['output_type'] = 'display_data';\n",
              "        await google.colab.output.renderOutput(dataTable, element);\n",
              "        const docLink = document.createElement('div');\n",
              "        docLink.innerHTML = docLinkHtml;\n",
              "        element.appendChild(docLink);\n",
              "      }\n",
              "    </script>\n",
              "  </div>\n",
              "\n",
              "\n",
              "<div id=\"df-b4cdc2a8-0927-4467-ad5e-cb5605d436d5\">\n",
              "  <button class=\"colab-df-quickchart\" onclick=\"quickchart('df-b4cdc2a8-0927-4467-ad5e-cb5605d436d5')\"\n",
              "            title=\"Suggest charts\"\n",
              "            style=\"display:none;\">\n",
              "\n",
              "<svg xmlns=\"http://www.w3.org/2000/svg\" height=\"24px\"viewBox=\"0 0 24 24\"\n",
              "     width=\"24px\">\n",
              "    <g>\n",
              "        <path d=\"M19 3H5c-1.1 0-2 .9-2 2v14c0 1.1.9 2 2 2h14c1.1 0 2-.9 2-2V5c0-1.1-.9-2-2-2zM9 17H7v-7h2v7zm4 0h-2V7h2v10zm4 0h-2v-4h2v4z\"/>\n",
              "    </g>\n",
              "</svg>\n",
              "  </button>\n",
              "\n",
              "<style>\n",
              "  .colab-df-quickchart {\n",
              "      --bg-color: #E8F0FE;\n",
              "      --fill-color: #1967D2;\n",
              "      --hover-bg-color: #E2EBFA;\n",
              "      --hover-fill-color: #174EA6;\n",
              "      --disabled-fill-color: #AAA;\n",
              "      --disabled-bg-color: #DDD;\n",
              "  }\n",
              "\n",
              "  [theme=dark] .colab-df-quickchart {\n",
              "      --bg-color: #3B4455;\n",
              "      --fill-color: #D2E3FC;\n",
              "      --hover-bg-color: #434B5C;\n",
              "      --hover-fill-color: #FFFFFF;\n",
              "      --disabled-bg-color: #3B4455;\n",
              "      --disabled-fill-color: #666;\n",
              "  }\n",
              "\n",
              "  .colab-df-quickchart {\n",
              "    background-color: var(--bg-color);\n",
              "    border: none;\n",
              "    border-radius: 50%;\n",
              "    cursor: pointer;\n",
              "    display: none;\n",
              "    fill: var(--fill-color);\n",
              "    height: 32px;\n",
              "    padding: 0;\n",
              "    width: 32px;\n",
              "  }\n",
              "\n",
              "  .colab-df-quickchart:hover {\n",
              "    background-color: var(--hover-bg-color);\n",
              "    box-shadow: 0 1px 2px rgba(60, 64, 67, 0.3), 0 1px 3px 1px rgba(60, 64, 67, 0.15);\n",
              "    fill: var(--button-hover-fill-color);\n",
              "  }\n",
              "\n",
              "  .colab-df-quickchart-complete:disabled,\n",
              "  .colab-df-quickchart-complete:disabled:hover {\n",
              "    background-color: var(--disabled-bg-color);\n",
              "    fill: var(--disabled-fill-color);\n",
              "    box-shadow: none;\n",
              "  }\n",
              "\n",
              "  .colab-df-spinner {\n",
              "    border: 2px solid var(--fill-color);\n",
              "    border-color: transparent;\n",
              "    border-bottom-color: var(--fill-color);\n",
              "    animation:\n",
              "      spin 1s steps(1) infinite;\n",
              "  }\n",
              "\n",
              "  @keyframes spin {\n",
              "    0% {\n",
              "      border-color: transparent;\n",
              "      border-bottom-color: var(--fill-color);\n",
              "      border-left-color: var(--fill-color);\n",
              "    }\n",
              "    20% {\n",
              "      border-color: transparent;\n",
              "      border-left-color: var(--fill-color);\n",
              "      border-top-color: var(--fill-color);\n",
              "    }\n",
              "    30% {\n",
              "      border-color: transparent;\n",
              "      border-left-color: var(--fill-color);\n",
              "      border-top-color: var(--fill-color);\n",
              "      border-right-color: var(--fill-color);\n",
              "    }\n",
              "    40% {\n",
              "      border-color: transparent;\n",
              "      border-right-color: var(--fill-color);\n",
              "      border-top-color: var(--fill-color);\n",
              "    }\n",
              "    60% {\n",
              "      border-color: transparent;\n",
              "      border-right-color: var(--fill-color);\n",
              "    }\n",
              "    80% {\n",
              "      border-color: transparent;\n",
              "      border-right-color: var(--fill-color);\n",
              "      border-bottom-color: var(--fill-color);\n",
              "    }\n",
              "    90% {\n",
              "      border-color: transparent;\n",
              "      border-bottom-color: var(--fill-color);\n",
              "    }\n",
              "  }\n",
              "</style>\n",
              "\n",
              "  <script>\n",
              "    async function quickchart(key) {\n",
              "      const quickchartButtonEl =\n",
              "        document.querySelector('#' + key + ' button');\n",
              "      quickchartButtonEl.disabled = true;  // To prevent multiple clicks.\n",
              "      quickchartButtonEl.classList.add('colab-df-spinner');\n",
              "      try {\n",
              "        const charts = await google.colab.kernel.invokeFunction(\n",
              "            'suggestCharts', [key], {});\n",
              "      } catch (error) {\n",
              "        console.error('Error during call to suggestCharts:', error);\n",
              "      }\n",
              "      quickchartButtonEl.classList.remove('colab-df-spinner');\n",
              "      quickchartButtonEl.classList.add('colab-df-quickchart-complete');\n",
              "    }\n",
              "    (() => {\n",
              "      let quickchartButtonEl =\n",
              "        document.querySelector('#df-b4cdc2a8-0927-4467-ad5e-cb5605d436d5 button');\n",
              "      quickchartButtonEl.style.display =\n",
              "        google.colab.kernel.accessAllowed ? 'block' : 'none';\n",
              "    })();\n",
              "  </script>\n",
              "</div>\n",
              "\n",
              "    </div>\n",
              "  </div>\n"
            ],
            "application/vnd.google.colaboratory.intrinsic+json": {
              "type": "dataframe",
              "summary": "{\n  \"name\": \"df\",\n  \"rows\": 8,\n  \"fields\": [\n    {\n      \"column\": \"Unnamed: 0\",\n      \"properties\": {\n        \"dtype\": \"number\",\n        \"std\": 830807.1453725423,\n        \"min\": 702.0,\n        \"max\": 2579721.0,\n        \"num_unique_values\": 8,\n        \"samples\": [\n          1303185.0242602208,\n          1427927.0,\n          215909.0\n        ],\n        \"semantic_type\": \"\",\n        \"description\": \"\"\n      }\n    },\n    {\n      \"column\": \"price\",\n      \"properties\": {\n        \"dtype\": \"number\",\n        \"std\": 71507.88050759837,\n        \"min\": 16.6,\n        \"max\": 202321.0,\n        \"num_unique_values\": 8,\n        \"samples\": [\n          56.723877205035556,\n          53.4,\n          202321.0\n        ],\n        \"semantic_type\": \"\",\n        \"description\": \"\"\n      }\n    }\n  ]\n}"
            }
          },
          "metadata": {},
          "execution_count": 196
        }
      ]
    },
    {
      "cell_type": "code",
      "source": [
        "df.isnull().sum()"
      ],
      "metadata": {
        "colab": {
          "base_uri": "https://localhost:8080/"
        },
        "id": "ac_68qTYkq2F",
        "outputId": "d056d230-1838-4b99-8d92-f0a50d8eb0ca"
      },
      "execution_count": null,
      "outputs": [
        {
          "output_type": "execute_result",
          "data": {
            "text/plain": [
              "Unnamed: 0         0\n",
              "insert_date        0\n",
              "origin             0\n",
              "destination        0\n",
              "start_date         0\n",
              "end_date           0\n",
              "train_type         0\n",
              "price          13588\n",
              "train_class      643\n",
              "fare             643\n",
              "dtype: int64"
            ]
          },
          "metadata": {},
          "execution_count": 197
        }
      ]
    },
    {
      "cell_type": "code",
      "source": [
        "df.info()"
      ],
      "metadata": {
        "colab": {
          "base_uri": "https://localhost:8080/"
        },
        "id": "ubQReqcpk4Tz",
        "outputId": "d8e12b10-9161-44c7-fdc6-76079d0ec3e4"
      },
      "execution_count": null,
      "outputs": [
        {
          "output_type": "stream",
          "name": "stdout",
          "text": [
            "<class 'pandas.core.frame.DataFrame'>\n",
            "RangeIndex: 215909 entries, 0 to 215908\n",
            "Data columns (total 10 columns):\n",
            " #   Column       Non-Null Count   Dtype  \n",
            "---  ------       --------------   -----  \n",
            " 0   Unnamed: 0   215909 non-null  int64  \n",
            " 1   insert_date  215909 non-null  object \n",
            " 2   origin       215909 non-null  object \n",
            " 3   destination  215909 non-null  object \n",
            " 4   start_date   215909 non-null  object \n",
            " 5   end_date     215909 non-null  object \n",
            " 6   train_type   215909 non-null  object \n",
            " 7   price        202321 non-null  float64\n",
            " 8   train_class  215266 non-null  object \n",
            " 9   fare         215266 non-null  object \n",
            "dtypes: float64(1), int64(1), object(8)\n",
            "memory usage: 16.5+ MB\n"
          ]
        }
      ]
    },
    {
      "cell_type": "code",
      "source": [
        "df.shape"
      ],
      "metadata": {
        "id": "SFxVu7P6lG8Y",
        "colab": {
          "base_uri": "https://localhost:8080/"
        },
        "outputId": "e60d5e5c-acea-423c-b0df-c5f758b9c45e"
      },
      "execution_count": null,
      "outputs": [
        {
          "output_type": "execute_result",
          "data": {
            "text/plain": [
              "(215909, 10)"
            ]
          },
          "metadata": {},
          "execution_count": 199
        }
      ]
    },
    {
      "cell_type": "code",
      "source": [
        "# Drop 'unnamed' column and 'insert date' column\n",
        "df=df.drop('Unnamed: 0', axis=1)\n",
        "df=df.drop('insert_date', axis=1)"
      ],
      "metadata": {
        "id": "crTzrgMPr6Og"
      },
      "execution_count": null,
      "outputs": []
    },
    {
      "cell_type": "code",
      "source": [
        "# Calculate missing values for each column\n",
        "missing_values = df.isnull().sum()\n",
        "\n",
        "# Create a bar chart to visualize missing values\n",
        "plt.figure(figsize=(12, 6))\n",
        "missing_values.plot(kind='bar')\n",
        "plt.title('Missing Values in Each Column')\n",
        "plt.xlabel('Columns')\n",
        "plt.ylabel('Count of Missing Values')\n",
        "plt.xticks(rotation=90)\n",
        "plt.show()"
      ],
      "metadata": {
        "colab": {
          "base_uri": "https://localhost:8080/",
          "height": 628
        },
        "id": "Edne584Yr6Mf",
        "outputId": "1b51f802-3fd0-40d6-f8f6-080f329334d0"
      },
      "execution_count": null,
      "outputs": [
        {
          "output_type": "display_data",
          "data": {
            "text/plain": [
              "<Figure size 1200x600 with 1 Axes>"
            ],
            "image/png": "[encoded data removed]"
          },
          "metadata": {}
        }
      ]
    },
    {
      "cell_type": "markdown",
      "source": [
        "## **Data Preprocessing**"
      ],
      "metadata": {
        "id": "QO1u_F80zx41"
      }
    },
    {
      "cell_type": "markdown",
      "source": [
        "### Hanling missing values"
      ],
      "metadata": {
        "id": "LTYfq0zQ0uDP"
      }
    },
    {
      "cell_type": "code",
      "source": [
        "# Plot the distribution of 'price' column\n",
        "plt.figure(figsize=(8, 6))\n",
        "plt.hist(df['price'], bins=10, color='skyblue', edgecolor='black')\n",
        "plt.title('Distribution of Price Column')\n",
        "plt.xlabel('Price')\n",
        "plt.ylabel('Frequency')\n",
        "plt.grid(True)\n",
        "plt.show()"
      ],
      "metadata": {
        "colab": {
          "base_uri": "https://localhost:8080/",
          "height": 564
        },
        "id": "xkpVrXjh1U8X",
        "outputId": "54afcd0b-63e7-4822-aa19-482999e171eb"
      },
      "execution_count": null,
      "outputs": [
        {
          "output_type": "display_data",
          "data": {
            "text/plain": [
              "<Figure size 800x600 with 1 Axes>"
            ],
            "image/png": "[encoded data removed]"
          },
          "metadata": {}
        }
      ]
    },
    {
      "cell_type": "code",
      "source": [
        "df.shape"
      ],
      "metadata": {
        "colab": {
          "base_uri": "https://localhost:8080/"
        },
        "id": "UNm8tA0g9Ug_",
        "outputId": "9559535e-6ae2-4e57-b7ce-e6668f063770"
      },
      "execution_count": null,
      "outputs": [
        {
          "output_type": "execute_result",
          "data": {
            "text/plain": [
              "(215909, 8)"
            ]
          },
          "metadata": {},
          "execution_count": 203
        }
      ]
    },
    {
      "cell_type": "code",
      "source": [
        "# filling missing value in price value using mean\n",
        "mean_price = df['price'].mean()\n",
        "df['price'] = df['price'].fillna(mean_price)\n",
        "\n",
        "# dropping na values in train_class column\n",
        "df.dropna(subset=['train_class'], inplace=True)\n",
        "df.dropna(subset=['fare'], inplace=True)"
      ],
      "metadata": {
        "id": "8Zivw4E-r6Kb"
      },
      "execution_count": null,
      "outputs": []
    },
    {
      "cell_type": "code",
      "source": [
        "df.shape"
      ],
      "metadata": {
        "colab": {
          "base_uri": "https://localhost:8080/"
        },
        "id": "fSYg8xxn90uc",
        "outputId": "724fea02-3d88-4254-c3a4-d1e249a32139"
      },
      "execution_count": null,
      "outputs": [
        {
          "output_type": "execute_result",
          "data": {
            "text/plain": [
              "(215266, 8)"
            ]
          },
          "metadata": {},
          "execution_count": 205
        }
      ]
    },
    {
      "cell_type": "code",
      "source": [
        "df.isnull().sum()"
      ],
      "metadata": {
        "colab": {
          "base_uri": "https://localhost:8080/"
        },
        "id": "xlEdCS6r94N5",
        "outputId": "2ed4253b-50e9-4a05-97a0-97db15ac5bfb"
      },
      "execution_count": null,
      "outputs": [
        {
          "output_type": "execute_result",
          "data": {
            "text/plain": [
              "origin         0\n",
              "destination    0\n",
              "start_date     0\n",
              "end_date       0\n",
              "train_type     0\n",
              "price          0\n",
              "train_class    0\n",
              "fare           0\n",
              "dtype: int64"
            ]
          },
          "metadata": {},
          "execution_count": 206
        }
      ]
    },
    {
      "cell_type": "code",
      "source": [
        "print(df.head(10))"
      ],
      "metadata": {
        "colab": {
          "base_uri": "https://localhost:8080/"
        },
        "id": "0l2P7VBq2Aos",
        "outputId": "a3536547-39d4-4491-b9b9-77446c887c6e"
      },
      "execution_count": null,
      "outputs": [
        {
          "output_type": "stream",
          "name": "stdout",
          "text": [
            "       origin destination           start_date             end_date  \\\n",
            "0  PONFERRADA      MADRID  2019-06-02 15:00:00  2019-06-02 19:42:00   \n",
            "1  PONFERRADA      MADRID  2019-06-02 17:15:00  2019-06-02 23:03:00   \n",
            "2  PONFERRADA      MADRID  2019-06-02 17:15:00  2019-06-02 23:10:00   \n",
            "3  PONFERRADA      MADRID  2019-06-02 17:15:00  2019-06-02 22:14:00   \n",
            "4  PONFERRADA      MADRID  2019-06-02 18:55:00  2019-06-02 23:03:00   \n",
            "5      MADRID    VALENCIA  2019-06-17 06:08:00  2019-06-17 12:55:00   \n",
            "6      MADRID    VALENCIA  2019-06-17 12:21:00  2019-06-17 19:04:00   \n",
            "7      MADRID    VALENCIA  2019-06-17 16:05:00  2019-06-17 22:47:00   \n",
            "8      MADRID    VALENCIA  2019-06-16 06:20:00  2019-06-16 12:55:00   \n",
            "9      MADRID    VALENCIA  2019-06-16 12:42:00  2019-06-16 19:04:00   \n",
            "\n",
            "  train_type  price         train_class        fare  \n",
            "0     MD-AVE  59.50  Turista con enlace    Flexible  \n",
            "1     MD-AVE  34.65  Turista con enlace     Promo +  \n",
            "2      MD-LD  39.95  Turista con enlace     Promo +  \n",
            "3     MD-AVE  40.60  Turista con enlace     Promo +  \n",
            "4      ALVIA  27.90             Turista       Promo  \n",
            "5   REGIONAL  28.35             Turista  Adulto ida  \n",
            "6   REGIONAL  28.35             Turista  Adulto ida  \n",
            "7   REGIONAL  28.35             Turista  Adulto ida  \n",
            "8   REGIONAL  28.35             Turista  Adulto ida  \n",
            "9   REGIONAL  28.35             Turista  Adulto ida  \n"
          ]
        }
      ]
    },
    {
      "cell_type": "code",
      "source": [
        "# Formatting date and time column\n",
        "# Convert 'start_date' and 'end_date' columns to datetime format\n",
        "df['start_date'] = pd.to_datetime(df['start_date'])\n",
        "df['end_date'] = pd.to_datetime(df['end_date'])\n",
        "\n",
        "# Calculate the time difference and store it in a new column\n",
        "df['duration_to_reach_destination'] = df['end_date'] - df['start_date']"
      ],
      "metadata": {
        "id": "uKEup03j_03D"
      },
      "execution_count": null,
      "outputs": []
    },
    {
      "cell_type": "code",
      "source": [
        "df.head()"
      ],
      "metadata": {
        "colab": {
          "base_uri": "https://localhost:8080/",
          "height": 206
        },
        "id": "V_1umi81cdp1",
        "outputId": "d96d9206-a539-44b4-c4b0-99af4379aa70"
      },
      "execution_count": null,
      "outputs": [
        {
          "output_type": "execute_result",
          "data": {
            "text/plain": [
              "       origin destination          start_date            end_date train_type  \\\n",
              "0  PONFERRADA      MADRID 2019-06-02 15:00:00 2019-06-02 19:42:00     MD-AVE   \n",
              "1  PONFERRADA      MADRID 2019-06-02 17:15:00 2019-06-02 23:03:00     MD-AVE   \n",
              "2  PONFERRADA      MADRID 2019-06-02 17:15:00 2019-06-02 23:10:00      MD-LD   \n",
              "3  PONFERRADA      MADRID 2019-06-02 17:15:00 2019-06-02 22:14:00     MD-AVE   \n",
              "4  PONFERRADA      MADRID 2019-06-02 18:55:00 2019-06-02 23:03:00      ALVIA   \n",
              "\n",
              "   price         train_class      fare duration_to_reach_destination  \n",
              "0  59.50  Turista con enlace  Flexible               0 days 04:42:00  \n",
              "1  34.65  Turista con enlace   Promo +               0 days 05:48:00  \n",
              "2  39.95  Turista con enlace   Promo +               0 days 05:55:00  \n",
              "3  40.60  Turista con enlace   Promo +               0 days 04:59:00  \n",
              "4  27.90             Turista     Promo               0 days 04:08:00  "
            ],
            "text/html": [
              "\n",
              "  <div id=\"df-9d83a989-7606-45d7-b5a9-75a3397af243\" class=\"colab-df-container\">\n",
              "    <div>\n",
              "<style scoped>\n",
              "    .dataframe tbody tr th:only-of-type {\n",
              "        vertical-align: middle;\n",
              "    }\n",
              "\n",
              "    .dataframe tbody tr th {\n",
              "        vertical-align: top;\n",
              "    }\n",
              "\n",
              "    .dataframe thead th {\n",
              "        text-align: right;\n",
              "    }\n",
              "</style>\n",
              "<table border=\"1\" class=\"dataframe\">\n",
              "  <thead>\n",
              "    <tr style=\"text-align: right;\">\n",
              "      <th></th>\n",
              "      <th>origin</th>\n",
              "      <th>destination</th>\n",
              "      <th>start_date</th>\n",
              "      <th>end_date</th>\n",
              "      <th>train_type</th>\n",
              "      <th>price</th>\n",
              "      <th>train_class</th>\n",
              "      <th>fare</th>\n",
              "      <th>duration_to_reach_destination</th>\n",
              "    </tr>\n",
              "  </thead>\n",
              "  <tbody>\n",
              "    <tr>\n",
              "      <th>0</th>\n",
              "      <td>PONFERRADA</td>\n",
              "      <td>MADRID</td>\n",
              "      <td>2019-06-02 15:00:00</td>\n",
              "      <td>2019-06-02 19:42:00</td>\n",
              "      <td>MD-AVE</td>\n",
              "      <td>59.50</td>\n",
              "      <td>Turista con enlace</td>\n",
              "      <td>Flexible</td>\n",
              "      <td>0 days 04:42:00</td>\n",
              "    </tr>\n",
              "    <tr>\n",
              "      <th>1</th>\n",
              "      <td>PONFERRADA</td>\n",
              "      <td>MADRID</td>\n",
              "      <td>2019-06-02 17:15:00</td>\n",
              "      <td>2019-06-02 23:03:00</td>\n",
              "      <td>MD-AVE</td>\n",
              "      <td>34.65</td>\n",
              "      <td>Turista con enlace</td>\n",
              "      <td>Promo +</td>\n",
              "      <td>0 days 05:48:00</td>\n",
              "    </tr>\n",
              "    <tr>\n",
              "      <th>2</th>\n",
              "      <td>PONFERRADA</td>\n",
              "      <td>MADRID</td>\n",
              "      <td>2019-06-02 17:15:00</td>\n",
              "      <td>2019-06-02 23:10:00</td>\n",
              "      <td>MD-LD</td>\n",
              "      <td>39.95</td>\n",
              "      <td>Turista con enlace</td>\n",
              "      <td>Promo +</td>\n",
              "      <td>0 days 05:55:00</td>\n",
              "    </tr>\n",
              "    <tr>\n",
              "      <th>3</th>\n",
              "      <td>PONFERRADA</td>\n",
              "      <td>MADRID</td>\n",
              "      <td>2019-06-02 17:15:00</td>\n",
              "      <td>2019-06-02 22:14:00</td>\n",
              "      <td>MD-AVE</td>\n",
              "      <td>40.60</td>\n",
              "      <td>Turista con enlace</td>\n",
              "      <td>Promo +</td>\n",
              "      <td>0 days 04:59:00</td>\n",
              "    </tr>\n",
              "    <tr>\n",
              "      <th>4</th>\n",
              "      <td>PONFERRADA</td>\n",
              "      <td>MADRID</td>\n",
              "      <td>2019-06-02 18:55:00</td>\n",
              "      <td>2019-06-02 23:03:00</td>\n",
              "      <td>ALVIA</td>\n",
              "      <td>27.90</td>\n",
              "      <td>Turista</td>\n",
              "      <td>Promo</td>\n",
              "      <td>0 days 04:08:00</td>\n",
              "    </tr>\n",
              "  </tbody>\n",
              "</table>\n",
              "</div>\n",
              "    <div class=\"colab-df-buttons\">\n",
              "\n",
              "  <div class=\"colab-df-container\">\n",
              "    <button class=\"colab-df-convert\" onclick=\"convertToInteractive('df-9d83a989-7606-45d7-b5a9-75a3397af243')\"\n",
              "            title=\"Convert this dataframe to an interactive table.\"\n",
              "            style=\"display:none;\">\n",
              "\n",
              "  <svg xmlns=\"http://www.w3.org/2000/svg\" height=\"24px\" viewBox=\"0 -960 960 960\">\n",
              "    <path d=\"M120-120v-720h720v720H120Zm60-500h600v-160H180v160Zm220 220h160v-160H400v160Zm0 220h160v-160H400v160ZM180-400h160v-160H180v160Zm440 0h160v-160H620v160ZM180-180h160v-160H180v160Zm440 0h160v-160H620v160Z\"/>\n",
              "  </svg>\n",
              "    </button>\n",
              "\n",
              "  <style>\n",
              "    .colab-df-container {\n",
              "      display:flex;\n",
              "      gap: 12px;\n",
              "    }\n",
              "\n",
              "    .colab-df-convert {\n",
              "      background-color: #E8F0FE;\n",
              "      border: none;\n",
              "      border-radius: 50%;\n",
              "      cursor: pointer;\n",
              "      display: none;\n",
              "      fill: #1967D2;\n",
              "      height: 32px;\n",
              "      padding: 0 0 0 0;\n",
              "      width: 32px;\n",
              "    }\n",
              "\n",
              "    .colab-df-convert:hover {\n",
              "      background-color: #E2EBFA;\n",
              "      box-shadow: 0px 1px 2px rgba(60, 64, 67, 0.3), 0px 1px 3px 1px rgba(60, 64, 67, 0.15);\n",
              "      fill: #174EA6;\n",
              "    }\n",
              "\n",
              "    .colab-df-buttons div {\n",
              "      margin-bottom: 4px;\n",
              "    }\n",
              "\n",
              "    [theme=dark] .colab-df-convert {\n",
              "      background-color: #3B4455;\n",
              "      fill: #D2E3FC;\n",
              "    }\n",
              "\n",
              "    [theme=dark] .colab-df-convert:hover {\n",
              "      background-color: #434B5C;\n",
              "      box-shadow: 0px 1px 3px 1px rgba(0, 0, 0, 0.15);\n",
              "      filter: drop-shadow(0px 1px 2px rgba(0, 0, 0, 0.3));\n",
              "      fill: #FFFFFF;\n",
              "    }\n",
              "  </style>\n",
              "\n",
              "    <script>\n",
              "      const buttonEl =\n",
              "        document.querySelector('#df-9d83a989-7606-45d7-b5a9-75a3397af243 button.colab-df-convert');\n",
              "      buttonEl.style.display =\n",
              "        google.colab.kernel.accessAllowed ? 'block' : 'none';\n",
              "\n",
              "      async function convertToInteractive(key) {\n",
              "        const element = document.querySelector('#df-9d83a989-7606-45d7-b5a9-75a3397af243');\n",
              "        const dataTable =\n",
              "          await google.colab.kernel.invokeFunction('convertToInteractive',\n",
              "                                                    [key], {});\n",
              "        if (!dataTable) return;\n",
              "\n",
              "        const docLinkHtml = 'Like what you see? Visit the ' +\n",
              "          '<a target=\"_blank\" href=https://colab.research.google.com/notebooks/data_table.ipynb>data table notebook</a>'\n",
              "          + ' to learn more about interactive tables.';\n",
              "        element.innerHTML = '';\n",
              "        dataTable['output_type'] = 'display_data';\n",
              "        await google.colab.output.renderOutput(dataTable, element);\n",
              "        const docLink = document.createElement('div');\n",
              "        docLink.innerHTML = docLinkHtml;\n",
              "        element.appendChild(docLink);\n",
              "      }\n",
              "    </script>\n",
              "  </div>\n",
              "\n",
              "\n",
              "<div id=\"df-7d3f7124-86c5-46f2-8813-60e89fd018dd\">\n",
              "  <button class=\"colab-df-quickchart\" onclick=\"quickchart('df-7d3f7124-86c5-46f2-8813-60e89fd018dd')\"\n",
              "            title=\"Suggest charts\"\n",
              "            style=\"display:none;\">\n",
              "\n",
              "<svg xmlns=\"http://www.w3.org/2000/svg\" height=\"24px\"viewBox=\"0 0 24 24\"\n",
              "     width=\"24px\">\n",
              "    <g>\n",
              "        <path d=\"M19 3H5c-1.1 0-2 .9-2 2v14c0 1.1.9 2 2 2h14c1.1 0 2-.9 2-2V5c0-1.1-.9-2-2-2zM9 17H7v-7h2v7zm4 0h-2V7h2v10zm4 0h-2v-4h2v4z\"/>\n",
              "    </g>\n",
              "</svg>\n",
              "  </button>\n",
              "\n",
              "<style>\n",
              "  .colab-df-quickchart {\n",
              "      --bg-color: #E8F0FE;\n",
              "      --fill-color: #1967D2;\n",
              "      --hover-bg-color: #E2EBFA;\n",
              "      --hover-fill-color: #174EA6;\n",
              "      --disabled-fill-color: #AAA;\n",
              "      --disabled-bg-color: #DDD;\n",
              "  }\n",
              "\n",
              "  [theme=dark] .colab-df-quickchart {\n",
              "      --bg-color: #3B4455;\n",
              "      --fill-color: #D2E3FC;\n",
              "      --hover-bg-color: #434B5C;\n",
              "      --hover-fill-color: #FFFFFF;\n",
              "      --disabled-bg-color: #3B4455;\n",
              "      --disabled-fill-color: #666;\n",
              "  }\n",
              "\n",
              "  .colab-df-quickchart {\n",
              "    background-color: var(--bg-color);\n",
              "    border: none;\n",
              "    border-radius: 50%;\n",
              "    cursor: pointer;\n",
              "    display: none;\n",
              "    fill: var(--fill-color);\n",
              "    height: 32px;\n",
              "    padding: 0;\n",
              "    width: 32px;\n",
              "  }\n",
              "\n",
              "  .colab-df-quickchart:hover {\n",
              "    background-color: var(--hover-bg-color);\n",
              "    box-shadow: 0 1px 2px rgba(60, 64, 67, 0.3), 0 1px 3px 1px rgba(60, 64, 67, 0.15);\n",
              "    fill: var(--button-hover-fill-color);\n",
              "  }\n",
              "\n",
              "  .colab-df-quickchart-complete:disabled,\n",
              "  .colab-df-quickchart-complete:disabled:hover {\n",
              "    background-color: var(--disabled-bg-color);\n",
              "    fill: var(--disabled-fill-color);\n",
              "    box-shadow: none;\n",
              "  }\n",
              "\n",
              "  .colab-df-spinner {\n",
              "    border: 2px solid var(--fill-color);\n",
              "    border-color: transparent;\n",
              "    border-bottom-color: var(--fill-color);\n",
              "    animation:\n",
              "      spin 1s steps(1) infinite;\n",
              "  }\n",
              "\n",
              "  @keyframes spin {\n",
              "    0% {\n",
              "      border-color: transparent;\n",
              "      border-bottom-color: var(--fill-color);\n",
              "      border-left-color: var(--fill-color);\n",
              "    }\n",
              "    20% {\n",
              "      border-color: transparent;\n",
              "      border-left-color: var(--fill-color);\n",
              "      border-top-color: var(--fill-color);\n",
              "    }\n",
              "    30% {\n",
              "      border-color: transparent;\n",
              "      border-left-color: var(--fill-color);\n",
              "      border-top-color: var(--fill-color);\n",
              "      border-right-color: var(--fill-color);\n",
              "    }\n",
              "    40% {\n",
              "      border-color: transparent;\n",
              "      border-right-color: var(--fill-color);\n",
              "      border-top-color: var(--fill-color);\n",
              "    }\n",
              "    60% {\n",
              "      border-color: transparent;\n",
              "      border-right-color: var(--fill-color);\n",
              "    }\n",
              "    80% {\n",
              "      border-color: transparent;\n",
              "      border-right-color: var(--fill-color);\n",
              "      border-bottom-color: var(--fill-color);\n",
              "    }\n",
              "    90% {\n",
              "      border-color: transparent;\n",
              "      border-bottom-color: var(--fill-color);\n",
              "    }\n",
              "  }\n",
              "</style>\n",
              "\n",
              "  <script>\n",
              "    async function quickchart(key) {\n",
              "      const quickchartButtonEl =\n",
              "        document.querySelector('#' + key + ' button');\n",
              "      quickchartButtonEl.disabled = true;  // To prevent multiple clicks.\n",
              "      quickchartButtonEl.classList.add('colab-df-spinner');\n",
              "      try {\n",
              "        const charts = await google.colab.kernel.invokeFunction(\n",
              "            'suggestCharts', [key], {});\n",
              "      } catch (error) {\n",
              "        console.error('Error during call to suggestCharts:', error);\n",
              "      }\n",
              "      quickchartButtonEl.classList.remove('colab-df-spinner');\n",
              "      quickchartButtonEl.classList.add('colab-df-quickchart-complete');\n",
              "    }\n",
              "    (() => {\n",
              "      let quickchartButtonEl =\n",
              "        document.querySelector('#df-7d3f7124-86c5-46f2-8813-60e89fd018dd button');\n",
              "      quickchartButtonEl.style.display =\n",
              "        google.colab.kernel.accessAllowed ? 'block' : 'none';\n",
              "    })();\n",
              "  </script>\n",
              "</div>\n",
              "\n",
              "    </div>\n",
              "  </div>\n"
            ],
            "application/vnd.google.colaboratory.intrinsic+json": {
              "type": "dataframe",
              "variable_name": "df"
            }
          },
          "metadata": {},
          "execution_count": 209
        }
      ]
    },
    {
      "cell_type": "markdown",
      "source": [
        "## **Exploratory Data Analysis**\n",
        "\n",
        "### **Visualizations explore the dataset and uncover interesting patterns and relationships within the data.**"
      ],
      "metadata": {
        "id": "yLpWHqow34Y7"
      }
    },
    {
      "cell_type": "markdown",
      "source": [
        "### **Chart 1: Number of people boarding from different stations**"
      ],
      "metadata": {
        "id": "w8341gre7wo3"
      }
    },
    {
      "cell_type": "code",
      "source": [
        "# # Create a count plot for the 'origin' column\n",
        "# plt.figure(figsize=(10, 6))\n",
        "# sns.countplot(x='origin', data=df, palette='viridis')\n",
        "# plt.title('Number of People Boarding from Different Stations')\n",
        "# plt.xlabel('Station')\n",
        "# plt.ylabel('Number of People')\n",
        "# plt.xticks(rotation=45)\n",
        "# plt.show()"
      ],
      "metadata": {
        "id": "hOMHkmcU2Dd7"
      },
      "execution_count": null,
      "outputs": []
    },
    {
      "cell_type": "markdown",
      "source": [
        "\n",
        "Based on the insight provided, it suggests that Madrid is the main station or central hub connecting to other stations in the network. This conclusion is drawn from the observation that the majority of people boarding the trains are from Madrid, implying that it serves as a primary departure point for travelers."
      ],
      "metadata": {
        "id": "4rceIyxJ3mCD"
      }
    },
    {
      "cell_type": "markdown",
      "source": [
        "### **Chart 2: Origin-Destination Analysis:**\n",
        "\n",
        "Create a geographical plot showing the origin and destination cities, with lines representing train routes between them. This can provide insights into the connectivity between different cities."
      ],
      "metadata": {
        "id": "gy_kKLH_74-2"
      }
    },
    {
      "cell_type": "code",
      "source": [
        "# import networkx as nx\n",
        "\n",
        "# # Create a directed graph\n",
        "# G = nx.DiGraph()\n",
        "\n",
        "# # Add edges for train routes\n",
        "# for _, row in df.iterrows():\n",
        "#     origin, destination = row['origin'], row['destination']\n",
        "#     G.add_edge(origin, destination)\n",
        "\n",
        "# # Plot the graph\n",
        "# plt.figure(figsize=(10, 6))\n",
        "# pos = nx.spring_layout(G)  # positions for all nodes\n",
        "# nx.draw_networkx_nodes(G, pos, node_size=700)\n",
        "# nx.draw_networkx_edges(G, pos, width=1.0, alpha=0.5, arrows=True)\n",
        "# nx.draw_networkx_labels(G, pos, font_size=10, font_family='sans-serif')\n",
        "# plt.title('Origin-Destination Train Routes (Network Graph)')\n",
        "# plt.axis('off')\n",
        "# plt.show()"
      ],
      "metadata": {
        "id": "8WZZPtg08OS6"
      },
      "execution_count": null,
      "outputs": []
    },
    {
      "cell_type": "markdown",
      "source": [
        "\n",
        "The geographical plot depicting the origin and destination cities, with lines representing train routes between them, offers a comprehensive overview of the connectivity between different cities within the train network. By observing the plot, it becomes evident that Madrid plays a crucial role in connecting various stations together. The lines representing train routes emanating from Madrid extend to several other cities, indicating extensive connectivity and a dense network of train services originating from the capital."
      ],
      "metadata": {
        "id": "zxu8bsVO3IdG"
      }
    },
    {
      "cell_type": "markdown",
      "source": [
        "### **Chart 3: Different types of train**"
      ],
      "metadata": {
        "id": "OdzUH1Ng8CCH"
      }
    },
    {
      "cell_type": "code",
      "source": [
        "# # Count the occurrences of each train type\n",
        "# train_type_counts = df['train_type'].value_counts()\n",
        "\n",
        "# # Plot the count of each train type\n",
        "# plt.figure(figsize=(10, 6))\n",
        "# train_type_counts.plot(kind='bar', color='skyblue')\n",
        "# plt.title('Number of Trains by Type')\n",
        "# plt.xlabel('Train Type')\n",
        "# plt.ylabel('Number of Trains')\n",
        "# plt.xticks(rotation=45)\n",
        "# plt.show()"
      ],
      "metadata": {
        "id": "nkxU-JkG2DbL"
      },
      "execution_count": null,
      "outputs": []
    },
    {
      "cell_type": "markdown",
      "source": [
        "### **Chart 4: Trains of differnt class**"
      ],
      "metadata": {
        "id": "2yZGYkJk8P6Z"
      }
    },
    {
      "cell_type": "code",
      "source": [
        "# # Count the occurrences of each train class\n",
        "# train_class_counts = df['train_class'].value_counts()\n",
        "\n",
        "# # Plot the distribution of train classes using a pie chart\n",
        "# plt.figure(figsize=(8, 8))\n",
        "# plt.pie(train_class_counts, labels=train_class_counts.index, autopct='%1.1f%%', startangle=140)\n",
        "# plt.title('Distribution of Trains by Class')\n",
        "# plt.axis('equal')  # Equal aspect ratio ensures that pie is drawn as a circle.\n",
        "# plt.show()"
      ],
      "metadata": {
        "id": "HUFz5TsY8PmF"
      },
      "execution_count": null,
      "outputs": []
    },
    {
      "cell_type": "markdown",
      "source": [
        "Turista ==> 2nd class\n",
        "\n",
        "Preferente ==> 1st class\n",
        "\n",
        "Turista Plus ==> 2nd class with more comfort\n",
        "\n",
        "Turista con enlace ==> with change\n",
        "\n",
        "Cama Turista ==> Sleeper"
      ],
      "metadata": {
        "id": "6hRoQiCZ5iND"
      }
    },
    {
      "cell_type": "markdown",
      "source": [
        "### **Chart 5: Fare distribution**"
      ],
      "metadata": {
        "id": "UNU9aOGb8Zcl"
      }
    },
    {
      "cell_type": "code",
      "source": [
        "# # Plot the fare distribution using a histogram\n",
        "# plt.figure(figsize=(10, 6))\n",
        "# plt.hist(df['fare'], bins=10, color='skyblue', edgecolor='black')\n",
        "# plt.title('Fare Distribution')\n",
        "# plt.xlabel('Fare')\n",
        "# plt.ylabel('Frequency')\n",
        "# plt.grid(True)\n",
        "# plt.show()\n"
      ],
      "metadata": {
        "id": "FjpwVuRX8Pjx"
      },
      "execution_count": null,
      "outputs": []
    },
    {
      "cell_type": "markdown",
      "source": [
        "## **Chart 6: Price Distribution by Train Type**"
      ],
      "metadata": {
        "id": "AnB_HpCh9V7z"
      }
    },
    {
      "cell_type": "code",
      "source": [
        "# # Plot the price distribution by train type using a box plot\n",
        "# plt.figure(figsize=(10, 6))\n",
        "# sns.boxplot(x='train_type', y='price', data=df, palette='viridis')\n",
        "# plt.title('Price Distribution by Train Type')\n",
        "# plt.xlabel('Train Type')\n",
        "# plt.ylabel('Price')\n",
        "# plt.xticks(rotation=45)\n",
        "# plt.grid(axis='y', linestyle='--', alpha=0.7)\n",
        "# plt.show()"
      ],
      "metadata": {
        "id": "Rb_TCEw69VKW"
      },
      "execution_count": null,
      "outputs": []
    },
    {
      "cell_type": "markdown",
      "source": [
        "## **Chart 7: Price Variation over Time:**"
      ],
      "metadata": {
        "id": "84X-gJAx9fMi"
      }
    },
    {
      "cell_type": "code",
      "source": [
        "# Convert timedelta64[ns] to numerical format (seconds)\n",
        "df['duration_seconds'] = df['duration_to_reach_destination'].dt.total_seconds()\n",
        "\n",
        "# Calculate correlation between 'price' and 'duration_seconds'\n",
        "correlation = df['price'].corr(df['duration_seconds'])\n",
        "\n",
        "print(\"Correlation between 'price' and 'duration_to_reach_destination':\", correlation)\n"
      ],
      "metadata": {
        "colab": {
          "base_uri": "https://localhost:8080/"
        },
        "id": "QqylqsWE7PF2",
        "outputId": "65a76b4d-cf1a-453e-fb5c-7e4099d24428"
      },
      "execution_count": null,
      "outputs": [
        {
          "output_type": "stream",
          "name": "stdout",
          "text": [
            "Correlation between 'price' and 'duration_to_reach_destination': -0.5692509282019008\n"
          ]
        }
      ]
    },
    {
      "cell_type": "code",
      "source": [
        "df.head()"
      ],
      "metadata": {
        "colab": {
          "base_uri": "https://localhost:8080/",
          "height": 206
        },
        "id": "YiVkd0_n7-9a",
        "outputId": "a9270e68-c0cd-4d4b-f856-1ce38145fba2"
      },
      "execution_count": null,
      "outputs": [
        {
          "output_type": "execute_result",
          "data": {
            "text/plain": [
              "       origin destination          start_date            end_date train_type  \\\n",
              "0  PONFERRADA      MADRID 2019-06-02 15:00:00 2019-06-02 19:42:00     MD-AVE   \n",
              "1  PONFERRADA      MADRID 2019-06-02 17:15:00 2019-06-02 23:03:00     MD-AVE   \n",
              "2  PONFERRADA      MADRID 2019-06-02 17:15:00 2019-06-02 23:10:00      MD-LD   \n",
              "3  PONFERRADA      MADRID 2019-06-02 17:15:00 2019-06-02 22:14:00     MD-AVE   \n",
              "4  PONFERRADA      MADRID 2019-06-02 18:55:00 2019-06-02 23:03:00      ALVIA   \n",
              "\n",
              "   price         train_class      fare duration_to_reach_destination  \\\n",
              "0  59.50  Turista con enlace  Flexible               0 days 04:42:00   \n",
              "1  34.65  Turista con enlace   Promo +               0 days 05:48:00   \n",
              "2  39.95  Turista con enlace   Promo +               0 days 05:55:00   \n",
              "3  40.60  Turista con enlace   Promo +               0 days 04:59:00   \n",
              "4  27.90             Turista     Promo               0 days 04:08:00   \n",
              "\n",
              "   duration_seconds  \n",
              "0           16920.0  \n",
              "1           20880.0  \n",
              "2           21300.0  \n",
              "3           17940.0  \n",
              "4           14880.0  "
            ],
            "text/html": [
              "\n",
              "  <div id=\"df-7df5670d-4db0-40df-9508-7d56abb4f7d2\" class=\"colab-df-container\">\n",
              "    <div>\n",
              "<style scoped>\n",
              "    .dataframe tbody tr th:only-of-type {\n",
              "        vertical-align: middle;\n",
              "    }\n",
              "\n",
              "    .dataframe tbody tr th {\n",
              "        vertical-align: top;\n",
              "    }\n",
              "\n",
              "    .dataframe thead th {\n",
              "        text-align: right;\n",
              "    }\n",
              "</style>\n",
              "<table border=\"1\" class=\"dataframe\">\n",
              "  <thead>\n",
              "    <tr style=\"text-align: right;\">\n",
              "      <th></th>\n",
              "      <th>origin</th>\n",
              "      <th>destination</th>\n",
              "      <th>start_date</th>\n",
              "      <th>end_date</th>\n",
              "      <th>train_type</th>\n",
              "      <th>price</th>\n",
              "      <th>train_class</th>\n",
              "      <th>fare</th>\n",
              "      <th>duration_to_reach_destination</th>\n",
              "      <th>duration_seconds</th>\n",
              "    </tr>\n",
              "  </thead>\n",
              "  <tbody>\n",
              "    <tr>\n",
              "      <th>0</th>\n",
              "      <td>PONFERRADA</td>\n",
              "      <td>MADRID</td>\n",
              "      <td>2019-06-02 15:00:00</td>\n",
              "      <td>2019-06-02 19:42:00</td>\n",
              "      <td>MD-AVE</td>\n",
              "      <td>59.50</td>\n",
              "      <td>Turista con enlace</td>\n",
              "      <td>Flexible</td>\n",
              "      <td>0 days 04:42:00</td>\n",
              "      <td>16920.0</td>\n",
              "    </tr>\n",
              "    <tr>\n",
              "      <th>1</th>\n",
              "      <td>PONFERRADA</td>\n",
              "      <td>MADRID</td>\n",
              "      <td>2019-06-02 17:15:00</td>\n",
              "      <td>2019-06-02 23:03:00</td>\n",
              "      <td>MD-AVE</td>\n",
              "      <td>34.65</td>\n",
              "      <td>Turista con enlace</td>\n",
              "      <td>Promo +</td>\n",
              "      <td>0 days 05:48:00</td>\n",
              "      <td>20880.0</td>\n",
              "    </tr>\n",
              "    <tr>\n",
              "      <th>2</th>\n",
              "      <td>PONFERRADA</td>\n",
              "      <td>MADRID</td>\n",
              "      <td>2019-06-02 17:15:00</td>\n",
              "      <td>2019-06-02 23:10:00</td>\n",
              "      <td>MD-LD</td>\n",
              "      <td>39.95</td>\n",
              "      <td>Turista con enlace</td>\n",
              "      <td>Promo +</td>\n",
              "      <td>0 days 05:55:00</td>\n",
              "      <td>21300.0</td>\n",
              "    </tr>\n",
              "    <tr>\n",
              "      <th>3</th>\n",
              "      <td>PONFERRADA</td>\n",
              "      <td>MADRID</td>\n",
              "      <td>2019-06-02 17:15:00</td>\n",
              "      <td>2019-06-02 22:14:00</td>\n",
              "      <td>MD-AVE</td>\n",
              "      <td>40.60</td>\n",
              "      <td>Turista con enlace</td>\n",
              "      <td>Promo +</td>\n",
              "      <td>0 days 04:59:00</td>\n",
              "      <td>17940.0</td>\n",
              "    </tr>\n",
              "    <tr>\n",
              "      <th>4</th>\n",
              "      <td>PONFERRADA</td>\n",
              "      <td>MADRID</td>\n",
              "      <td>2019-06-02 18:55:00</td>\n",
              "      <td>2019-06-02 23:03:00</td>\n",
              "      <td>ALVIA</td>\n",
              "      <td>27.90</td>\n",
              "      <td>Turista</td>\n",
              "      <td>Promo</td>\n",
              "      <td>0 days 04:08:00</td>\n",
              "      <td>14880.0</td>\n",
              "    </tr>\n",
              "  </tbody>\n",
              "</table>\n",
              "</div>\n",
              "    <div class=\"colab-df-buttons\">\n",
              "\n",
              "  <div class=\"colab-df-container\">\n",
              "    <button class=\"colab-df-convert\" onclick=\"convertToInteractive('df-7df5670d-4db0-40df-9508-7d56abb4f7d2')\"\n",
              "            title=\"Convert this dataframe to an interactive table.\"\n",
              "            style=\"display:none;\">\n",
              "\n",
              "  <svg xmlns=\"http://www.w3.org/2000/svg\" height=\"24px\" viewBox=\"0 -960 960 960\">\n",
              "    <path d=\"M120-120v-720h720v720H120Zm60-500h600v-160H180v160Zm220 220h160v-160H400v160Zm0 220h160v-160H400v160ZM180-400h160v-160H180v160Zm440 0h160v-160H620v160ZM180-180h160v-160H180v160Zm440 0h160v-160H620v160Z\"/>\n",
              "  </svg>\n",
              "    </button>\n",
              "\n",
              "  <style>\n",
              "    .colab-df-container {\n",
              "      display:flex;\n",
              "      gap: 12px;\n",
              "    }\n",
              "\n",
              "    .colab-df-convert {\n",
              "      background-color: #E8F0FE;\n",
              "      border: none;\n",
              "      border-radius: 50%;\n",
              "      cursor: pointer;\n",
              "      display: none;\n",
              "      fill: #1967D2;\n",
              "      height: 32px;\n",
              "      padding: 0 0 0 0;\n",
              "      width: 32px;\n",
              "    }\n",
              "\n",
              "    .colab-df-convert:hover {\n",
              "      background-color: #E2EBFA;\n",
              "      box-shadow: 0px 1px 2px rgba(60, 64, 67, 0.3), 0px 1px 3px 1px rgba(60, 64, 67, 0.15);\n",
              "      fill: #174EA6;\n",
              "    }\n",
              "\n",
              "    .colab-df-buttons div {\n",
              "      margin-bottom: 4px;\n",
              "    }\n",
              "\n",
              "    [theme=dark] .colab-df-convert {\n",
              "      background-color: #3B4455;\n",
              "      fill: #D2E3FC;\n",
              "    }\n",
              "\n",
              "    [theme=dark] .colab-df-convert:hover {\n",
              "      background-color: #434B5C;\n",
              "      box-shadow: 0px 1px 3px 1px rgba(0, 0, 0, 0.15);\n",
              "      filter: drop-shadow(0px 1px 2px rgba(0, 0, 0, 0.3));\n",
              "      fill: #FFFFFF;\n",
              "    }\n",
              "  </style>\n",
              "\n",
              "    <script>\n",
              "      const buttonEl =\n",
              "        document.querySelector('#df-7df5670d-4db0-40df-9508-7d56abb4f7d2 button.colab-df-convert');\n",
              "      buttonEl.style.display =\n",
              "        google.colab.kernel.accessAllowed ? 'block' : 'none';\n",
              "\n",
              "      async function convertToInteractive(key) {\n",
              "        const element = document.querySelector('#df-7df5670d-4db0-40df-9508-7d56abb4f7d2');\n",
              "        const dataTable =\n",
              "          await google.colab.kernel.invokeFunction('convertToInteractive',\n",
              "                                                    [key], {});\n",
              "        if (!dataTable) return;\n",
              "\n",
              "        const docLinkHtml = 'Like what you see? Visit the ' +\n",
              "          '<a target=\"_blank\" href=https://colab.research.google.com/notebooks/data_table.ipynb>data table notebook</a>'\n",
              "          + ' to learn more about interactive tables.';\n",
              "        element.innerHTML = '';\n",
              "        dataTable['output_type'] = 'display_data';\n",
              "        await google.colab.output.renderOutput(dataTable, element);\n",
              "        const docLink = document.createElement('div');\n",
              "        docLink.innerHTML = docLinkHtml;\n",
              "        element.appendChild(docLink);\n",
              "      }\n",
              "    </script>\n",
              "  </div>\n",
              "\n",
              "\n",
              "<div id=\"df-2460f11a-5886-4e74-8fe9-b41160028c1d\">\n",
              "  <button class=\"colab-df-quickchart\" onclick=\"quickchart('df-2460f11a-5886-4e74-8fe9-b41160028c1d')\"\n",
              "            title=\"Suggest charts\"\n",
              "            style=\"display:none;\">\n",
              "\n",
              "<svg xmlns=\"http://www.w3.org/2000/svg\" height=\"24px\"viewBox=\"0 0 24 24\"\n",
              "     width=\"24px\">\n",
              "    <g>\n",
              "        <path d=\"M19 3H5c-1.1 0-2 .9-2 2v14c0 1.1.9 2 2 2h14c1.1 0 2-.9 2-2V5c0-1.1-.9-2-2-2zM9 17H7v-7h2v7zm4 0h-2V7h2v10zm4 0h-2v-4h2v4z\"/>\n",
              "    </g>\n",
              "</svg>\n",
              "  </button>\n",
              "\n",
              "<style>\n",
              "  .colab-df-quickchart {\n",
              "      --bg-color: #E8F0FE;\n",
              "      --fill-color: #1967D2;\n",
              "      --hover-bg-color: #E2EBFA;\n",
              "      --hover-fill-color: #174EA6;\n",
              "      --disabled-fill-color: #AAA;\n",
              "      --disabled-bg-color: #DDD;\n",
              "  }\n",
              "\n",
              "  [theme=dark] .colab-df-quickchart {\n",
              "      --bg-color: #3B4455;\n",
              "      --fill-color: #D2E3FC;\n",
              "      --hover-bg-color: #434B5C;\n",
              "      --hover-fill-color: #FFFFFF;\n",
              "      --disabled-bg-color: #3B4455;\n",
              "      --disabled-fill-color: #666;\n",
              "  }\n",
              "\n",
              "  .colab-df-quickchart {\n",
              "    background-color: var(--bg-color);\n",
              "    border: none;\n",
              "    border-radius: 50%;\n",
              "    cursor: pointer;\n",
              "    display: none;\n",
              "    fill: var(--fill-color);\n",
              "    height: 32px;\n",
              "    padding: 0;\n",
              "    width: 32px;\n",
              "  }\n",
              "\n",
              "  .colab-df-quickchart:hover {\n",
              "    background-color: var(--hover-bg-color);\n",
              "    box-shadow: 0 1px 2px rgba(60, 64, 67, 0.3), 0 1px 3px 1px rgba(60, 64, 67, 0.15);\n",
              "    fill: var(--button-hover-fill-color);\n",
              "  }\n",
              "\n",
              "  .colab-df-quickchart-complete:disabled,\n",
              "  .colab-df-quickchart-complete:disabled:hover {\n",
              "    background-color: var(--disabled-bg-color);\n",
              "    fill: var(--disabled-fill-color);\n",
              "    box-shadow: none;\n",
              "  }\n",
              "\n",
              "  .colab-df-spinner {\n",
              "    border: 2px solid var(--fill-color);\n",
              "    border-color: transparent;\n",
              "    border-bottom-color: var(--fill-color);\n",
              "    animation:\n",
              "      spin 1s steps(1) infinite;\n",
              "  }\n",
              "\n",
              "  @keyframes spin {\n",
              "    0% {\n",
              "      border-color: transparent;\n",
              "      border-bottom-color: var(--fill-color);\n",
              "      border-left-color: var(--fill-color);\n",
              "    }\n",
              "    20% {\n",
              "      border-color: transparent;\n",
              "      border-left-color: var(--fill-color);\n",
              "      border-top-color: var(--fill-color);\n",
              "    }\n",
              "    30% {\n",
              "      border-color: transparent;\n",
              "      border-left-color: var(--fill-color);\n",
              "      border-top-color: var(--fill-color);\n",
              "      border-right-color: var(--fill-color);\n",
              "    }\n",
              "    40% {\n",
              "      border-color: transparent;\n",
              "      border-right-color: var(--fill-color);\n",
              "      border-top-color: var(--fill-color);\n",
              "    }\n",
              "    60% {\n",
              "      border-color: transparent;\n",
              "      border-right-color: var(--fill-color);\n",
              "    }\n",
              "    80% {\n",
              "      border-color: transparent;\n",
              "      border-right-color: var(--fill-color);\n",
              "      border-bottom-color: var(--fill-color);\n",
              "    }\n",
              "    90% {\n",
              "      border-color: transparent;\n",
              "      border-bottom-color: var(--fill-color);\n",
              "    }\n",
              "  }\n",
              "</style>\n",
              "\n",
              "  <script>\n",
              "    async function quickchart(key) {\n",
              "      const quickchartButtonEl =\n",
              "        document.querySelector('#' + key + ' button');\n",
              "      quickchartButtonEl.disabled = true;  // To prevent multiple clicks.\n",
              "      quickchartButtonEl.classList.add('colab-df-spinner');\n",
              "      try {\n",
              "        const charts = await google.colab.kernel.invokeFunction(\n",
              "            'suggestCharts', [key], {});\n",
              "      } catch (error) {\n",
              "        console.error('Error during call to suggestCharts:', error);\n",
              "      }\n",
              "      quickchartButtonEl.classList.remove('colab-df-spinner');\n",
              "      quickchartButtonEl.classList.add('colab-df-quickchart-complete');\n",
              "    }\n",
              "    (() => {\n",
              "      let quickchartButtonEl =\n",
              "        document.querySelector('#df-2460f11a-5886-4e74-8fe9-b41160028c1d button');\n",
              "      quickchartButtonEl.style.display =\n",
              "        google.colab.kernel.accessAllowed ? 'block' : 'none';\n",
              "    })();\n",
              "  </script>\n",
              "</div>\n",
              "\n",
              "    </div>\n",
              "  </div>\n"
            ],
            "application/vnd.google.colaboratory.intrinsic+json": {
              "type": "dataframe",
              "variable_name": "df"
            }
          },
          "metadata": {},
          "execution_count": 217
        }
      ]
    },
    {
      "cell_type": "code",
      "source": [
        "# # Plot scatter plot\n",
        "# plt.figure(figsize=(10, 6))\n",
        "# plt.scatter(df['duration_seconds'], df['price'], color='skyblue', alpha=0.7)\n",
        "# plt.title('Price vs. Duration to Reach Destination')\n",
        "# plt.xlabel('Duration to Reach Destination (seconds)')\n",
        "# plt.ylabel('Price')\n",
        "# plt.grid(True)\n",
        "# plt.show()"
      ],
      "metadata": {
        "id": "bzOunIMm8PHB"
      },
      "execution_count": null,
      "outputs": []
    },
    {
      "cell_type": "markdown",
      "source": [
        "Here's what the correlation coefficient indicates:\n",
        "\n",
        "* As the price of the train tickets increases, the duration to reach the\n",
        "destination tends to decrease.\n",
        "\n",
        "* Similarly, as the duration to reach the destination increases, the price of the train tickets tends to decrease.\n",
        "\n",
        "* However, it's important to note that correlation does not imply causation.\n",
        "\n",
        "* While there is a correlation between these two variables, it doesn't necessarily mean that changes in one variable cause changes in the other.\n",
        "\n",
        " Other factors may also influence both the price of train tickets and the duration of the journey.\n",
        "\n",
        "In practical terms, a negative correlation between price and duration could mean that more expensive train tickets are associated with faster, possibly more direct routes, while cheaper tickets may involve longer, possibly more indirect routes or slower train services."
      ],
      "metadata": {
        "id": "h2HHLIqB9DGP"
      }
    },
    {
      "cell_type": "markdown",
      "source": [
        "## **Chart 8: Price Distribution by Train Class**"
      ],
      "metadata": {
        "id": "_J4NQlPb9ka1"
      }
    },
    {
      "cell_type": "code",
      "source": [
        "# # Plot the price distribution by train class using a box plot\n",
        "# plt.figure(figsize=(10, 6))\n",
        "# sns.boxplot(x='train_class', y='price', data=df, palette='viridis')\n",
        "# plt.title('Price Distribution by Train Class')\n",
        "# plt.xlabel('Train Class')\n",
        "# plt.ylabel('Price')\n",
        "# plt.xticks(rotation=45)\n",
        "# plt.grid(axis='y', linestyle='--', alpha=0.7)\n",
        "# plt.show()"
      ],
      "metadata": {
        "id": "RRiG8MKV9VEF"
      },
      "execution_count": null,
      "outputs": []
    },
    {
      "cell_type": "markdown",
      "source": [
        "## **Chart 9: Price Fluctuations over Dates:**\n",
        "\n",
        "Plot the average ticket prices over different dates (start_date or end_date). This can help identify patterns in price fluctuations over different times of the year or week."
      ],
      "metadata": {
        "id": "y9kyn4x09wLA"
      }
    },
    {
      "cell_type": "code",
      "source": [
        "df.head()"
      ],
      "metadata": {
        "colab": {
          "base_uri": "https://localhost:8080/",
          "height": 206
        },
        "id": "BVXgfQrVqEN6",
        "outputId": "c9eb70e9-66e5-4c17-f27a-a93583458bac"
      },
      "execution_count": null,
      "outputs": [
        {
          "output_type": "execute_result",
          "data": {
            "text/plain": [
              "       origin destination          start_date            end_date train_type  \\\n",
              "0  PONFERRADA      MADRID 2019-06-02 15:00:00 2019-06-02 19:42:00     MD-AVE   \n",
              "1  PONFERRADA      MADRID 2019-06-02 17:15:00 2019-06-02 23:03:00     MD-AVE   \n",
              "2  PONFERRADA      MADRID 2019-06-02 17:15:00 2019-06-02 23:10:00      MD-LD   \n",
              "3  PONFERRADA      MADRID 2019-06-02 17:15:00 2019-06-02 22:14:00     MD-AVE   \n",
              "4  PONFERRADA      MADRID 2019-06-02 18:55:00 2019-06-02 23:03:00      ALVIA   \n",
              "\n",
              "   price         train_class      fare duration_to_reach_destination  \\\n",
              "0  59.50  Turista con enlace  Flexible               0 days 04:42:00   \n",
              "1  34.65  Turista con enlace   Promo +               0 days 05:48:00   \n",
              "2  39.95  Turista con enlace   Promo +               0 days 05:55:00   \n",
              "3  40.60  Turista con enlace   Promo +               0 days 04:59:00   \n",
              "4  27.90             Turista     Promo               0 days 04:08:00   \n",
              "\n",
              "   duration_seconds  \n",
              "0           16920.0  \n",
              "1           20880.0  \n",
              "2           21300.0  \n",
              "3           17940.0  \n",
              "4           14880.0  "
            ],
            "text/html": [
              "\n",
              "  <div id=\"df-bbb92c86-f1d0-4fb8-8473-3b12cb5c19ee\" class=\"colab-df-container\">\n",
              "    <div>\n",
              "<style scoped>\n",
              "    .dataframe tbody tr th:only-of-type {\n",
              "        vertical-align: middle;\n",
              "    }\n",
              "\n",
              "    .dataframe tbody tr th {\n",
              "        vertical-align: top;\n",
              "    }\n",
              "\n",
              "    .dataframe thead th {\n",
              "        text-align: right;\n",
              "    }\n",
              "</style>\n",
              "<table border=\"1\" class=\"dataframe\">\n",
              "  <thead>\n",
              "    <tr style=\"text-align: right;\">\n",
              "      <th></th>\n",
              "      <th>origin</th>\n",
              "      <th>destination</th>\n",
              "      <th>start_date</th>\n",
              "      <th>end_date</th>\n",
              "      <th>train_type</th>\n",
              "      <th>price</th>\n",
              "      <th>train_class</th>\n",
              "      <th>fare</th>\n",
              "      <th>duration_to_reach_destination</th>\n",
              "      <th>duration_seconds</th>\n",
              "    </tr>\n",
              "  </thead>\n",
              "  <tbody>\n",
              "    <tr>\n",
              "      <th>0</th>\n",
              "      <td>PONFERRADA</td>\n",
              "      <td>MADRID</td>\n",
              "      <td>2019-06-02 15:00:00</td>\n",
              "      <td>2019-06-02 19:42:00</td>\n",
              "      <td>MD-AVE</td>\n",
              "      <td>59.50</td>\n",
              "      <td>Turista con enlace</td>\n",
              "      <td>Flexible</td>\n",
              "      <td>0 days 04:42:00</td>\n",
              "      <td>16920.0</td>\n",
              "    </tr>\n",
              "    <tr>\n",
              "      <th>1</th>\n",
              "      <td>PONFERRADA</td>\n",
              "      <td>MADRID</td>\n",
              "      <td>2019-06-02 17:15:00</td>\n",
              "      <td>2019-06-02 23:03:00</td>\n",
              "      <td>MD-AVE</td>\n",
              "      <td>34.65</td>\n",
              "      <td>Turista con enlace</td>\n",
              "      <td>Promo +</td>\n",
              "      <td>0 days 05:48:00</td>\n",
              "      <td>20880.0</td>\n",
              "    </tr>\n",
              "    <tr>\n",
              "      <th>2</th>\n",
              "      <td>PONFERRADA</td>\n",
              "      <td>MADRID</td>\n",
              "      <td>2019-06-02 17:15:00</td>\n",
              "      <td>2019-06-02 23:10:00</td>\n",
              "      <td>MD-LD</td>\n",
              "      <td>39.95</td>\n",
              "      <td>Turista con enlace</td>\n",
              "      <td>Promo +</td>\n",
              "      <td>0 days 05:55:00</td>\n",
              "      <td>21300.0</td>\n",
              "    </tr>\n",
              "    <tr>\n",
              "      <th>3</th>\n",
              "      <td>PONFERRADA</td>\n",
              "      <td>MADRID</td>\n",
              "      <td>2019-06-02 17:15:00</td>\n",
              "      <td>2019-06-02 22:14:00</td>\n",
              "      <td>MD-AVE</td>\n",
              "      <td>40.60</td>\n",
              "      <td>Turista con enlace</td>\n",
              "      <td>Promo +</td>\n",
              "      <td>0 days 04:59:00</td>\n",
              "      <td>17940.0</td>\n",
              "    </tr>\n",
              "    <tr>\n",
              "      <th>4</th>\n",
              "      <td>PONFERRADA</td>\n",
              "      <td>MADRID</td>\n",
              "      <td>2019-06-02 18:55:00</td>\n",
              "      <td>2019-06-02 23:03:00</td>\n",
              "      <td>ALVIA</td>\n",
              "      <td>27.90</td>\n",
              "      <td>Turista</td>\n",
              "      <td>Promo</td>\n",
              "      <td>0 days 04:08:00</td>\n",
              "      <td>14880.0</td>\n",
              "    </tr>\n",
              "  </tbody>\n",
              "</table>\n",
              "</div>\n",
              "    <div class=\"colab-df-buttons\">\n",
              "\n",
              "  <div class=\"colab-df-container\">\n",
              "    <button class=\"colab-df-convert\" onclick=\"convertToInteractive('df-bbb92c86-f1d0-4fb8-8473-3b12cb5c19ee')\"\n",
              "            title=\"Convert this dataframe to an interactive table.\"\n",
              "            style=\"display:none;\">\n",
              "\n",
              "  <svg xmlns=\"http://www.w3.org/2000/svg\" height=\"24px\" viewBox=\"0 -960 960 960\">\n",
              "    <path d=\"M120-120v-720h720v720H120Zm60-500h600v-160H180v160Zm220 220h160v-160H400v160Zm0 220h160v-160H400v160ZM180-400h160v-160H180v160Zm440 0h160v-160H620v160ZM180-180h160v-160H180v160Zm440 0h160v-160H620v160Z\"/>\n",
              "  </svg>\n",
              "    </button>\n",
              "\n",
              "  <style>\n",
              "    .colab-df-container {\n",
              "      display:flex;\n",
              "      gap: 12px;\n",
              "    }\n",
              "\n",
              "    .colab-df-convert {\n",
              "      background-color: #E8F0FE;\n",
              "      border: none;\n",
              "      border-radius: 50%;\n",
              "      cursor: pointer;\n",
              "      display: none;\n",
              "      fill: #1967D2;\n",
              "      height: 32px;\n",
              "      padding: 0 0 0 0;\n",
              "      width: 32px;\n",
              "    }\n",
              "\n",
              "    .colab-df-convert:hover {\n",
              "      background-color: #E2EBFA;\n",
              "      box-shadow: 0px 1px 2px rgba(60, 64, 67, 0.3), 0px 1px 3px 1px rgba(60, 64, 67, 0.15);\n",
              "      fill: #174EA6;\n",
              "    }\n",
              "\n",
              "    .colab-df-buttons div {\n",
              "      margin-bottom: 4px;\n",
              "    }\n",
              "\n",
              "    [theme=dark] .colab-df-convert {\n",
              "      background-color: #3B4455;\n",
              "      fill: #D2E3FC;\n",
              "    }\n",
              "\n",
              "    [theme=dark] .colab-df-convert:hover {\n",
              "      background-color: #434B5C;\n",
              "      box-shadow: 0px 1px 3px 1px rgba(0, 0, 0, 0.15);\n",
              "      filter: drop-shadow(0px 1px 2px rgba(0, 0, 0, 0.3));\n",
              "      fill: #FFFFFF;\n",
              "    }\n",
              "  </style>\n",
              "\n",
              "    <script>\n",
              "      const buttonEl =\n",
              "        document.querySelector('#df-bbb92c86-f1d0-4fb8-8473-3b12cb5c19ee button.colab-df-convert');\n",
              "      buttonEl.style.display =\n",
              "        google.colab.kernel.accessAllowed ? 'block' : 'none';\n",
              "\n",
              "      async function convertToInteractive(key) {\n",
              "        const element = document.querySelector('#df-bbb92c86-f1d0-4fb8-8473-3b12cb5c19ee');\n",
              "        const dataTable =\n",
              "          await google.colab.kernel.invokeFunction('convertToInteractive',\n",
              "                                                    [key], {});\n",
              "        if (!dataTable) return;\n",
              "\n",
              "        const docLinkHtml = 'Like what you see? Visit the ' +\n",
              "          '<a target=\"_blank\" href=https://colab.research.google.com/notebooks/data_table.ipynb>data table notebook</a>'\n",
              "          + ' to learn more about interactive tables.';\n",
              "        element.innerHTML = '';\n",
              "        dataTable['output_type'] = 'display_data';\n",
              "        await google.colab.output.renderOutput(dataTable, element);\n",
              "        const docLink = document.createElement('div');\n",
              "        docLink.innerHTML = docLinkHtml;\n",
              "        element.appendChild(docLink);\n",
              "      }\n",
              "    </script>\n",
              "  </div>\n",
              "\n",
              "\n",
              "<div id=\"df-4b8f7400-4a3f-414c-810d-32d3c808eaf9\">\n",
              "  <button class=\"colab-df-quickchart\" onclick=\"quickchart('df-4b8f7400-4a3f-414c-810d-32d3c808eaf9')\"\n",
              "            title=\"Suggest charts\"\n",
              "            style=\"display:none;\">\n",
              "\n",
              "<svg xmlns=\"http://www.w3.org/2000/svg\" height=\"24px\"viewBox=\"0 0 24 24\"\n",
              "     width=\"24px\">\n",
              "    <g>\n",
              "        <path d=\"M19 3H5c-1.1 0-2 .9-2 2v14c0 1.1.9 2 2 2h14c1.1 0 2-.9 2-2V5c0-1.1-.9-2-2-2zM9 17H7v-7h2v7zm4 0h-2V7h2v10zm4 0h-2v-4h2v4z\"/>\n",
              "    </g>\n",
              "</svg>\n",
              "  </button>\n",
              "\n",
              "<style>\n",
              "  .colab-df-quickchart {\n",
              "      --bg-color: #E8F0FE;\n",
              "      --fill-color: #1967D2;\n",
              "      --hover-bg-color: #E2EBFA;\n",
              "      --hover-fill-color: #174EA6;\n",
              "      --disabled-fill-color: #AAA;\n",
              "      --disabled-bg-color: #DDD;\n",
              "  }\n",
              "\n",
              "  [theme=dark] .colab-df-quickchart {\n",
              "      --bg-color: #3B4455;\n",
              "      --fill-color: #D2E3FC;\n",
              "      --hover-bg-color: #434B5C;\n",
              "      --hover-fill-color: #FFFFFF;\n",
              "      --disabled-bg-color: #3B4455;\n",
              "      --disabled-fill-color: #666;\n",
              "  }\n",
              "\n",
              "  .colab-df-quickchart {\n",
              "    background-color: var(--bg-color);\n",
              "    border: none;\n",
              "    border-radius: 50%;\n",
              "    cursor: pointer;\n",
              "    display: none;\n",
              "    fill: var(--fill-color);\n",
              "    height: 32px;\n",
              "    padding: 0;\n",
              "    width: 32px;\n",
              "  }\n",
              "\n",
              "  .colab-df-quickchart:hover {\n",
              "    background-color: var(--hover-bg-color);\n",
              "    box-shadow: 0 1px 2px rgba(60, 64, 67, 0.3), 0 1px 3px 1px rgba(60, 64, 67, 0.15);\n",
              "    fill: var(--button-hover-fill-color);\n",
              "  }\n",
              "\n",
              "  .colab-df-quickchart-complete:disabled,\n",
              "  .colab-df-quickchart-complete:disabled:hover {\n",
              "    background-color: var(--disabled-bg-color);\n",
              "    fill: var(--disabled-fill-color);\n",
              "    box-shadow: none;\n",
              "  }\n",
              "\n",
              "  .colab-df-spinner {\n",
              "    border: 2px solid var(--fill-color);\n",
              "    border-color: transparent;\n",
              "    border-bottom-color: var(--fill-color);\n",
              "    animation:\n",
              "      spin 1s steps(1) infinite;\n",
              "  }\n",
              "\n",
              "  @keyframes spin {\n",
              "    0% {\n",
              "      border-color: transparent;\n",
              "      border-bottom-color: var(--fill-color);\n",
              "      border-left-color: var(--fill-color);\n",
              "    }\n",
              "    20% {\n",
              "      border-color: transparent;\n",
              "      border-left-color: var(--fill-color);\n",
              "      border-top-color: var(--fill-color);\n",
              "    }\n",
              "    30% {\n",
              "      border-color: transparent;\n",
              "      border-left-color: var(--fill-color);\n",
              "      border-top-color: var(--fill-color);\n",
              "      border-right-color: var(--fill-color);\n",
              "    }\n",
              "    40% {\n",
              "      border-color: transparent;\n",
              "      border-right-color: var(--fill-color);\n",
              "      border-top-color: var(--fill-color);\n",
              "    }\n",
              "    60% {\n",
              "      border-color: transparent;\n",
              "      border-right-color: var(--fill-color);\n",
              "    }\n",
              "    80% {\n",
              "      border-color: transparent;\n",
              "      border-right-color: var(--fill-color);\n",
              "      border-bottom-color: var(--fill-color);\n",
              "    }\n",
              "    90% {\n",
              "      border-color: transparent;\n",
              "      border-bottom-color: var(--fill-color);\n",
              "    }\n",
              "  }\n",
              "</style>\n",
              "\n",
              "  <script>\n",
              "    async function quickchart(key) {\n",
              "      const quickchartButtonEl =\n",
              "        document.querySelector('#' + key + ' button');\n",
              "      quickchartButtonEl.disabled = true;  // To prevent multiple clicks.\n",
              "      quickchartButtonEl.classList.add('colab-df-spinner');\n",
              "      try {\n",
              "        const charts = await google.colab.kernel.invokeFunction(\n",
              "            'suggestCharts', [key], {});\n",
              "      } catch (error) {\n",
              "        console.error('Error during call to suggestCharts:', error);\n",
              "      }\n",
              "      quickchartButtonEl.classList.remove('colab-df-spinner');\n",
              "      quickchartButtonEl.classList.add('colab-df-quickchart-complete');\n",
              "    }\n",
              "    (() => {\n",
              "      let quickchartButtonEl =\n",
              "        document.querySelector('#df-4b8f7400-4a3f-414c-810d-32d3c808eaf9 button');\n",
              "      quickchartButtonEl.style.display =\n",
              "        google.colab.kernel.accessAllowed ? 'block' : 'none';\n",
              "    })();\n",
              "  </script>\n",
              "</div>\n",
              "\n",
              "    </div>\n",
              "  </div>\n"
            ],
            "application/vnd.google.colaboratory.intrinsic+json": {
              "type": "dataframe",
              "variable_name": "df"
            }
          },
          "metadata": {},
          "execution_count": 220
        }
      ]
    },
    {
      "cell_type": "code",
      "source": [
        "# # Plot price fluctuations over dates using a scatter plot\n",
        "# plt.figure(figsize=(10, 6))\n",
        "# plt.scatter(df['start_date'], df['price'], color='skyblue', marker='o')\n",
        "# plt.title('Price Fluctuations Over Dates (Scatter Plot)')\n",
        "# plt.xlabel('Date')\n",
        "# plt.ylabel('Price')\n",
        "# plt.xticks(rotation=45)\n",
        "# plt.grid(True)\n",
        "# plt.show()"
      ],
      "metadata": {
        "id": "CTBhZR0XrxIg"
      },
      "execution_count": null,
      "outputs": []
    },
    {
      "cell_type": "markdown",
      "source": [
        "## **Chart 10: Train Type vs. Fare**\n",
        "\n",
        "Compare the average fares across different train types using a grouped bar chart or box plot. This can help understand how fares vary between different service providers."
      ],
      "metadata": {
        "id": "EzKJajHW-cej"
      }
    },
    {
      "cell_type": "code",
      "source": [
        "# # Plot Train Type vs. Fare using a bar plot\n",
        "# plt.figure(figsize=(10, 6))\n",
        "# sns.barplot(x='train_type', y='fare', data=df, palette='viridis')\n",
        "# plt.title('Train Type vs. Fare')\n",
        "# plt.xlabel('Train Type')\n",
        "# plt.ylabel('Fare')\n",
        "# plt.xticks(rotation=45)\n",
        "# plt.grid(axis='y', linestyle='--', alpha=0.7)\n",
        "# plt.show()"
      ],
      "metadata": {
        "id": "Jm3A8wGW9v1_"
      },
      "execution_count": null,
      "outputs": []
    },
    {
      "cell_type": "markdown",
      "source": [
        "## **Chart 11: Duration of Train Journeys**\n",
        "\n",
        "Calculate the duration of train journeys (end_date - start_date) and visualize the distribution of journey durations. This can reveal insights into the typical length of train journeys."
      ],
      "metadata": {
        "id": "jCB-jWpv-oQZ"
      }
    },
    {
      "cell_type": "code",
      "source": [
        "df.columns"
      ],
      "metadata": {
        "colab": {
          "base_uri": "https://localhost:8080/"
        },
        "id": "Wz0iKt_jkYmV",
        "outputId": "f07a0e2a-716c-4b9a-addb-6f25830364ff"
      },
      "execution_count": null,
      "outputs": [
        {
          "output_type": "execute_result",
          "data": {
            "text/plain": [
              "Index(['origin', 'destination', 'start_date', 'end_date', 'train_type',\n",
              "       'price', 'train_class', 'fare', 'duration_to_reach_destination',\n",
              "       'duration_seconds'],\n",
              "      dtype='object')"
            ]
          },
          "metadata": {},
          "execution_count": 223
        }
      ]
    },
    {
      "cell_type": "code",
      "source": [
        "# # Plot the distribution of journey durations using a histogram\n",
        "# plt.figure(figsize=(10, 6))\n",
        "# plt.hist(df['duration_to_reach_destination'].dt.total_seconds() / 3600, bins=10, color='skyblue', edgecolor='black')\n",
        "# plt.title('Distribution of Train Journey Durations')\n",
        "# plt.xlabel('Journey Duration (hours)')\n",
        "# plt.ylabel('Frequency')\n",
        "# plt.grid(axis='y', linestyle='--', alpha=0.7)\n",
        "# plt.show()"
      ],
      "metadata": {
        "id": "e2nuFu4h9vzl"
      },
      "execution_count": null,
      "outputs": []
    },
    {
      "cell_type": "markdown",
      "source": [
        "## **Chart 12: Price vs. Duration Scatter Plot**\n",
        "\n",
        "Create a scatter plot with price on the y-axis and journey duration on the x-axis. This can help identify any correlation between ticket prices and journey durations."
      ],
      "metadata": {
        "id": "9fDs4Ey5-s3e"
      }
    },
    {
      "cell_type": "code",
      "source": [
        "# # Plot Price vs. Duration Scatter Plot\n",
        "# plt.figure(figsize=(10, 6))\n",
        "# plt.scatter(df['duration_to_reach_destination'].dt.total_seconds() / 3600, df['price'], color='skyblue', marker='o')\n",
        "# plt.title('Price vs. Duration Scatter Plot')\n",
        "# plt.xlabel('Journey Duration (hours)')\n",
        "# plt.ylabel('Price')\n",
        "# plt.grid(True)\n",
        "# plt.show()"
      ],
      "metadata": {
        "id": "kO95Kk6g-sc7"
      },
      "execution_count": null,
      "outputs": []
    },
    {
      "cell_type": "markdown",
      "source": [
        "## **Chart 13: Train Type vs. Origin-Destination**\n",
        "\n",
        "Create a heatmap or bar plot showing the frequency of different train types for each origin-destination pair. This can provide insights into the popularity of different train services for specific routes."
      ],
      "metadata": {
        "id": "_Ucl_ltQ-zrw"
      }
    },
    {
      "cell_type": "code",
      "source": [
        "# # Create a pivot table to calculate the frequency of each train type for each origin-destination pair\n",
        "# pivot_table = df.pivot_table(index='origin', columns='destination', values='train_type', aggfunc='count', fill_value=0)\n",
        "\n",
        "# # Plot the heatmap\n",
        "# plt.figure(figsize=(10, 6))\n",
        "# sns.heatmap(pivot_table, cmap='viridis', annot=True, fmt='d')\n",
        "# plt.title('Train Type Frequency by Origin-Destination')\n",
        "# plt.xlabel('Destination')\n",
        "# plt.ylabel('Origin')\n",
        "# plt.show()"
      ],
      "metadata": {
        "id": "O1tQbUGp-saW"
      },
      "execution_count": null,
      "outputs": []
    },
    {
      "cell_type": "markdown",
      "source": [
        "The heatmap visualization \"Train Type Frequency by Origin-Destination\" provides several insights:\n",
        "\n",
        "1. **Popular Routes**: The heatmap highlights the routes with the highest frequency of train services. Regions with darker colors indicate routes with more train services, suggesting higher demand or connectivity between those origin and destination pairs.\n",
        "\n",
        "2. **Distribution of Train Types**: By observing the distribution of train types across different origin-destination pairs, we can identify patterns in the types of trains used for specific routes. For example, certain routes may primarily use express trains, while others may rely more on regional or local trains.\n",
        "\n",
        "3. **Service Coverage**: Sparse areas or lighter colors in the heatmap may indicate routes with fewer train services or limited connectivity. This information can be valuable for transportation planning and infrastructure development.\n",
        "\n",
        "4. **Demand Analysis**: Higher frequencies of train services on certain routes may suggest higher passenger demand or economic activity between those origin and destination cities. Conversely, lower frequencies may indicate lower demand or less traveled routes.\n",
        "\n",
        "5. **Operational Insights**: Transportation authorities and service providers can use this visualization to analyze the distribution of train types and optimize service offerings based on demand, route popularity, and operational efficiency.\n",
        "\n",
        "Overall, the heatmap provides a comprehensive view of the frequency of different train types for each origin-destination pair, allowing stakeholders to make data-driven decisions related to route planning, service optimization, and resource allocation."
      ],
      "metadata": {
        "id": "ODazggSCwIJk"
      }
    },
    {
      "cell_type": "markdown",
      "source": [
        "### **Handling Outliers**"
      ],
      "metadata": {
        "id": "2-rm_cdM9_dq"
      }
    },
    {
      "cell_type": "code",
      "source": [
        "# Calculate the first quartile (Q1) and third quartile (Q3)\n",
        "Q1 = df['price'].quantile(0.25)\n",
        "Q3 = df['price'].quantile(0.75)\n",
        "\n",
        "# Calculate the interquartile range (IQR)\n",
        "IQR = Q3 - Q1\n",
        "\n",
        "# Define the lower and upper bounds for outliers\n",
        "lower_bound = Q1 - 1.5 * IQR\n",
        "upper_bound = Q3 + 1.5 * IQR\n",
        "\n",
        "# # Replace outliers with NaN (or you can choose to remove them or replace with a different value)\n",
        "# df['price_handled'] = df['price'].apply(lambda x: x if lower_bound <= x <= upper_bound else None)\n",
        "\n",
        "# Calculate mode of 'price' column\n",
        "mode_price = df['price'].mode()[0]\n",
        "\n",
        "# Replace outliers with mode value\n",
        "df['price_handled'] = df['price'].apply(lambda x: mode_price if (x < lower_bound or x > upper_bound) else x)\n"
      ],
      "metadata": {
        "id": "bf4ZJlzBv4--"
      },
      "execution_count": null,
      "outputs": []
    },
    {
      "cell_type": "code",
      "source": [
        "# Print the number of missing values in the 'price_handled' column\n",
        "print(df['price_handled'].isnull().sum())"
      ],
      "metadata": {
        "colab": {
          "base_uri": "https://localhost:8080/"
        },
        "id": "PPplQgPMDNfc",
        "outputId": "820dd1ce-7ed3-46b4-8316-7b5f1d31ad77"
      },
      "execution_count": null,
      "outputs": [
        {
          "output_type": "stream",
          "name": "stdout",
          "text": [
            "0\n"
          ]
        }
      ]
    },
    {
      "cell_type": "code",
      "source": [
        "df.drop(columns=['price'], inplace=True)"
      ],
      "metadata": {
        "id": "DKiNcFZgevcE"
      },
      "execution_count": null,
      "outputs": []
    },
    {
      "cell_type": "code",
      "source": [
        "df.dtypes"
      ],
      "metadata": {
        "colab": {
          "base_uri": "https://localhost:8080/"
        },
        "id": "k0JQBn6ng2gZ",
        "outputId": "d9ee8d65-c99c-45bd-e5ad-6f0dcec2b46d"
      },
      "execution_count": null,
      "outputs": [
        {
          "output_type": "execute_result",
          "data": {
            "text/plain": [
              "origin                                    object\n",
              "destination                               object\n",
              "start_date                        datetime64[ns]\n",
              "end_date                          datetime64[ns]\n",
              "train_type                                object\n",
              "train_class                               object\n",
              "fare                                      object\n",
              "duration_to_reach_destination    timedelta64[ns]\n",
              "duration_seconds                         float64\n",
              "price_handled                            float64\n",
              "dtype: object"
            ]
          },
          "metadata": {},
          "execution_count": 230
        }
      ]
    },
    {
      "cell_type": "code",
      "source": [
        "'''\n",
        "# Create subplots for before and after box plots\n",
        "fig, axs = plt.subplots(1, 2, figsize=(12, 6))\n",
        "\n",
        "# Box plot before handling outliers\n",
        "axs[0].boxplot(df['price'], vert=False)\n",
        "axs[0].set_title('Box Plot of Price (Before Handling Outliers)')\n",
        "axs[0].set_xlabel('Price')\n",
        "\n",
        "# Box plot after handling outliers\n",
        "axs[1].boxplot(df['price_handled'].dropna(), vert=False)\n",
        "axs[1].set_title('Box Plot of Price (After Handling Outliers)')\n",
        "axs[1].set_xlabel('Price')\n",
        "\n",
        "\n",
        "# Show plot\n",
        "plt.tight_layout()\n",
        "plt.show()\n",
        "'''"
      ],
      "metadata": {
        "colab": {
          "base_uri": "https://localhost:8080/",
          "height": 73
        },
        "id": "j8EygJhnBr3k",
        "outputId": "3d08f828-922b-4d01-cb86-dad361c756c1"
      },
      "execution_count": null,
      "outputs": [
        {
          "output_type": "execute_result",
          "data": {
            "text/plain": [
              "\"\\n# Create subplots for before and after box plots\\nfig, axs = plt.subplots(1, 2, figsize=(12, 6))\\n\\n# Box plot before handling outliers\\naxs[0].boxplot(df['price'], vert=False)\\naxs[0].set_title('Box Plot of Price (Before Handling Outliers)')\\naxs[0].set_xlabel('Price')\\n\\n# Box plot after handling outliers\\naxs[1].boxplot(df['price_handled'].dropna(), vert=False)\\naxs[1].set_title('Box Plot of Price (After Handling Outliers)')\\naxs[1].set_xlabel('Price')\\n\\n\\n# Show plot\\nplt.tight_layout()\\nplt.show()\\n\""
            ],
            "application/vnd.google.colaboratory.intrinsic+json": {
              "type": "string"
            }
          },
          "metadata": {},
          "execution_count": 231
        }
      ]
    },
    {
      "cell_type": "markdown",
      "source": [
        "## **One-hot Encoding Categorical**"
      ],
      "metadata": {
        "id": "ybCUFYlnCBgo"
      }
    },
    {
      "cell_type": "code",
      "source": [
        "df"
      ],
      "metadata": {
        "colab": {
          "base_uri": "https://localhost:8080/",
          "height": 423
        },
        "id": "w4jN6up_BrOX",
        "outputId": "3a52132d-93c2-46ee-d6e2-b71c78af785c"
      },
      "execution_count": null,
      "outputs": [
        {
          "output_type": "execute_result",
          "data": {
            "text/plain": [
              "            origin destination          start_date            end_date  \\\n",
              "0       PONFERRADA      MADRID 2019-06-02 15:00:00 2019-06-02 19:42:00   \n",
              "1       PONFERRADA      MADRID 2019-06-02 17:15:00 2019-06-02 23:03:00   \n",
              "2       PONFERRADA      MADRID 2019-06-02 17:15:00 2019-06-02 23:10:00   \n",
              "3       PONFERRADA      MADRID 2019-06-02 17:15:00 2019-06-02 22:14:00   \n",
              "4       PONFERRADA      MADRID 2019-06-02 18:55:00 2019-06-02 23:03:00   \n",
              "...            ...         ...                 ...                 ...   \n",
              "215904      MADRID     SEVILLA 2019-06-01 17:00:00 2019-06-01 19:38:00   \n",
              "215905      MADRID     SEVILLA 2019-06-01 18:00:00 2019-06-01 20:32:00   \n",
              "215906      MADRID     SEVILLA 2019-06-01 19:00:00 2019-06-01 21:38:00   \n",
              "215907      MADRID     SEVILLA 2019-06-01 20:35:00 2019-06-01 23:15:00   \n",
              "215908      MADRID     SEVILLA 2019-06-01 21:25:00 2019-06-02 00:10:00   \n",
              "\n",
              "       train_type         train_class      fare duration_to_reach_destination  \\\n",
              "0          MD-AVE  Turista con enlace  Flexible               0 days 04:42:00   \n",
              "1          MD-AVE  Turista con enlace   Promo +               0 days 05:48:00   \n",
              "2           MD-LD  Turista con enlace   Promo +               0 days 05:55:00   \n",
              "3          MD-AVE  Turista con enlace   Promo +               0 days 04:59:00   \n",
              "4           ALVIA             Turista     Promo               0 days 04:08:00   \n",
              "...           ...                 ...       ...                           ...   \n",
              "215904        AVE             Turista     Promo               0 days 02:38:00   \n",
              "215905        AVE             Turista     Promo               0 days 02:32:00   \n",
              "215906        AVE             Turista     Promo               0 days 02:38:00   \n",
              "215907        AVE             Turista     Promo               0 days 02:40:00   \n",
              "215908    AV City        Turista Plus     Promo               0 days 02:45:00   \n",
              "\n",
              "        duration_seconds  price_handled  \n",
              "0                16920.0          59.50  \n",
              "1                20880.0          34.65  \n",
              "2                21300.0          39.95  \n",
              "3                17940.0          40.60  \n",
              "4                14880.0          27.90  \n",
              "...                  ...            ...  \n",
              "215904            9480.0          47.30  \n",
              "215905            9120.0          47.30  \n",
              "215906            9480.0          47.30  \n",
              "215907            9600.0          47.30  \n",
              "215908            9900.0          52.20  \n",
              "\n",
              "[215266 rows x 10 columns]"
            ],
            "text/html": [
              "\n",
              "  <div id=\"df-46fdc5c4-f938-4696-be73-dbe60568e267\" class=\"colab-df-container\">\n",
              "    <div>\n",
              "<style scoped>\n",
              "    .dataframe tbody tr th:only-of-type {\n",
              "        vertical-align: middle;\n",
              "    }\n",
              "\n",
              "    .dataframe tbody tr th {\n",
              "        vertical-align: top;\n",
              "    }\n",
              "\n",
              "    .dataframe thead th {\n",
              "        text-align: right;\n",
              "    }\n",
              "</style>\n",
              "<table border=\"1\" class=\"dataframe\">\n",
              "  <thead>\n",
              "    <tr style=\"text-align: right;\">\n",
              "      <th></th>\n",
              "      <th>origin</th>\n",
              "      <th>destination</th>\n",
              "      <th>start_date</th>\n",
              "      <th>end_date</th>\n",
              "      <th>train_type</th>\n",
              "      <th>train_class</th>\n",
              "      <th>fare</th>\n",
              "      <th>duration_to_reach_destination</th>\n",
              "      <th>duration_seconds</th>\n",
              "      <th>price_handled</th>\n",
              "    </tr>\n",
              "  </thead>\n",
              "  <tbody>\n",
              "    <tr>\n",
              "      <th>0</th>\n",
              "      <td>PONFERRADA</td>\n",
              "      <td>MADRID</td>\n",
              "      <td>2019-06-02 15:00:00</td>\n",
              "      <td>2019-06-02 19:42:00</td>\n",
              "      <td>MD-AVE</td>\n",
              "      <td>Turista con enlace</td>\n",
              "      <td>Flexible</td>\n",
              "      <td>0 days 04:42:00</td>\n",
              "      <td>16920.0</td>\n",
              "      <td>59.50</td>\n",
              "    </tr>\n",
              "    <tr>\n",
              "      <th>1</th>\n",
              "      <td>PONFERRADA</td>\n",
              "      <td>MADRID</td>\n",
              "      <td>2019-06-02 17:15:00</td>\n",
              "      <td>2019-06-02 23:03:00</td>\n",
              "      <td>MD-AVE</td>\n",
              "      <td>Turista con enlace</td>\n",
              "      <td>Promo +</td>\n",
              "      <td>0 days 05:48:00</td>\n",
              "      <td>20880.0</td>\n",
              "      <td>34.65</td>\n",
              "    </tr>\n",
              "    <tr>\n",
              "      <th>2</th>\n",
              "      <td>PONFERRADA</td>\n",
              "      <td>MADRID</td>\n",
              "      <td>2019-06-02 17:15:00</td>\n",
              "      <td>2019-06-02 23:10:00</td>\n",
              "      <td>MD-LD</td>\n",
              "      <td>Turista con enlace</td>\n",
              "      <td>Promo +</td>\n",
              "      <td>0 days 05:55:00</td>\n",
              "      <td>21300.0</td>\n",
              "      <td>39.95</td>\n",
              "    </tr>\n",
              "    <tr>\n",
              "      <th>3</th>\n",
              "      <td>PONFERRADA</td>\n",
              "      <td>MADRID</td>\n",
              "      <td>2019-06-02 17:15:00</td>\n",
              "      <td>2019-06-02 22:14:00</td>\n",
              "      <td>MD-AVE</td>\n",
              "      <td>Turista con enlace</td>\n",
              "      <td>Promo +</td>\n",
              "      <td>0 days 04:59:00</td>\n",
              "      <td>17940.0</td>\n",
              "      <td>40.60</td>\n",
              "    </tr>\n",
              "    <tr>\n",
              "      <th>4</th>\n",
              "      <td>PONFERRADA</td>\n",
              "      <td>MADRID</td>\n",
              "      <td>2019-06-02 18:55:00</td>\n",
              "      <td>2019-06-02 23:03:00</td>\n",
              "      <td>ALVIA</td>\n",
              "      <td>Turista</td>\n",
              "      <td>Promo</td>\n",
              "      <td>0 days 04:08:00</td>\n",
              "      <td>14880.0</td>\n",
              "      <td>27.90</td>\n",
              "    </tr>\n",
              "    <tr>\n",
              "      <th>...</th>\n",
              "      <td>...</td>\n",
              "      <td>...</td>\n",
              "      <td>...</td>\n",
              "      <td>...</td>\n",
              "      <td>...</td>\n",
              "      <td>...</td>\n",
              "      <td>...</td>\n",
              "      <td>...</td>\n",
              "      <td>...</td>\n",
              "      <td>...</td>\n",
              "    </tr>\n",
              "    <tr>\n",
              "      <th>215904</th>\n",
              "      <td>MADRID</td>\n",
              "      <td>SEVILLA</td>\n",
              "      <td>2019-06-01 17:00:00</td>\n",
              "      <td>2019-06-01 19:38:00</td>\n",
              "      <td>AVE</td>\n",
              "      <td>Turista</td>\n",
              "      <td>Promo</td>\n",
              "      <td>0 days 02:38:00</td>\n",
              "      <td>9480.0</td>\n",
              "      <td>47.30</td>\n",
              "    </tr>\n",
              "    <tr>\n",
              "      <th>215905</th>\n",
              "      <td>MADRID</td>\n",
              "      <td>SEVILLA</td>\n",
              "      <td>2019-06-01 18:00:00</td>\n",
              "      <td>2019-06-01 20:32:00</td>\n",
              "      <td>AVE</td>\n",
              "      <td>Turista</td>\n",
              "      <td>Promo</td>\n",
              "      <td>0 days 02:32:00</td>\n",
              "      <td>9120.0</td>\n",
              "      <td>47.30</td>\n",
              "    </tr>\n",
              "    <tr>\n",
              "      <th>215906</th>\n",
              "      <td>MADRID</td>\n",
              "      <td>SEVILLA</td>\n",
              "      <td>2019-06-01 19:00:00</td>\n",
              "      <td>2019-06-01 21:38:00</td>\n",
              "      <td>AVE</td>\n",
              "      <td>Turista</td>\n",
              "      <td>Promo</td>\n",
              "      <td>0 days 02:38:00</td>\n",
              "      <td>9480.0</td>\n",
              "      <td>47.30</td>\n",
              "    </tr>\n",
              "    <tr>\n",
              "      <th>215907</th>\n",
              "      <td>MADRID</td>\n",
              "      <td>SEVILLA</td>\n",
              "      <td>2019-06-01 20:35:00</td>\n",
              "      <td>2019-06-01 23:15:00</td>\n",
              "      <td>AVE</td>\n",
              "      <td>Turista</td>\n",
              "      <td>Promo</td>\n",
              "      <td>0 days 02:40:00</td>\n",
              "      <td>9600.0</td>\n",
              "      <td>47.30</td>\n",
              "    </tr>\n",
              "    <tr>\n",
              "      <th>215908</th>\n",
              "      <td>MADRID</td>\n",
              "      <td>SEVILLA</td>\n",
              "      <td>2019-06-01 21:25:00</td>\n",
              "      <td>2019-06-02 00:10:00</td>\n",
              "      <td>AV City</td>\n",
              "      <td>Turista Plus</td>\n",
              "      <td>Promo</td>\n",
              "      <td>0 days 02:45:00</td>\n",
              "      <td>9900.0</td>\n",
              "      <td>52.20</td>\n",
              "    </tr>\n",
              "  </tbody>\n",
              "</table>\n",
              "<p>215266 rows × 10 columns</p>\n",
              "</div>\n",
              "    <div class=\"colab-df-buttons\">\n",
              "\n",
              "  <div class=\"colab-df-container\">\n",
              "    <button class=\"colab-df-convert\" onclick=\"convertToInteractive('df-46fdc5c4-f938-4696-be73-dbe60568e267')\"\n",
              "            title=\"Convert this dataframe to an interactive table.\"\n",
              "            style=\"display:none;\">\n",
              "\n",
              "  <svg xmlns=\"http://www.w3.org/2000/svg\" height=\"24px\" viewBox=\"0 -960 960 960\">\n",
              "    <path d=\"M120-120v-720h720v720H120Zm60-500h600v-160H180v160Zm220 220h160v-160H400v160Zm0 220h160v-160H400v160ZM180-400h160v-160H180v160Zm440 0h160v-160H620v160ZM180-180h160v-160H180v160Zm440 0h160v-160H620v160Z\"/>\n",
              "  </svg>\n",
              "    </button>\n",
              "\n",
              "  <style>\n",
              "    .colab-df-container {\n",
              "      display:flex;\n",
              "      gap: 12px;\n",
              "    }\n",
              "\n",
              "    .colab-df-convert {\n",
              "      background-color: #E8F0FE;\n",
              "      border: none;\n",
              "      border-radius: 50%;\n",
              "      cursor: pointer;\n",
              "      display: none;\n",
              "      fill: #1967D2;\n",
              "      height: 32px;\n",
              "      padding: 0 0 0 0;\n",
              "      width: 32px;\n",
              "    }\n",
              "\n",
              "    .colab-df-convert:hover {\n",
              "      background-color: #E2EBFA;\n",
              "      box-shadow: 0px 1px 2px rgba(60, 64, 67, 0.3), 0px 1px 3px 1px rgba(60, 64, 67, 0.15);\n",
              "      fill: #174EA6;\n",
              "    }\n",
              "\n",
              "    .colab-df-buttons div {\n",
              "      margin-bottom: 4px;\n",
              "    }\n",
              "\n",
              "    [theme=dark] .colab-df-convert {\n",
              "      background-color: #3B4455;\n",
              "      fill: #D2E3FC;\n",
              "    }\n",
              "\n",
              "    [theme=dark] .colab-df-convert:hover {\n",
              "      background-color: #434B5C;\n",
              "      box-shadow: 0px 1px 3px 1px rgba(0, 0, 0, 0.15);\n",
              "      filter: drop-shadow(0px 1px 2px rgba(0, 0, 0, 0.3));\n",
              "      fill: #FFFFFF;\n",
              "    }\n",
              "  </style>\n",
              "\n",
              "    <script>\n",
              "      const buttonEl =\n",
              "        document.querySelector('#df-46fdc5c4-f938-4696-be73-dbe60568e267 button.colab-df-convert');\n",
              "      buttonEl.style.display =\n",
              "        google.colab.kernel.accessAllowed ? 'block' : 'none';\n",
              "\n",
              "      async function convertToInteractive(key) {\n",
              "        const element = document.querySelector('#df-46fdc5c4-f938-4696-be73-dbe60568e267');\n",
              "        const dataTable =\n",
              "          await google.colab.kernel.invokeFunction('convertToInteractive',\n",
              "                                                    [key], {});\n",
              "        if (!dataTable) return;\n",
              "\n",
              "        const docLinkHtml = 'Like what you see? Visit the ' +\n",
              "          '<a target=\"_blank\" href=https://colab.research.google.com/notebooks/data_table.ipynb>data table notebook</a>'\n",
              "          + ' to learn more about interactive tables.';\n",
              "        element.innerHTML = '';\n",
              "        dataTable['output_type'] = 'display_data';\n",
              "        await google.colab.output.renderOutput(dataTable, element);\n",
              "        const docLink = document.createElement('div');\n",
              "        docLink.innerHTML = docLinkHtml;\n",
              "        element.appendChild(docLink);\n",
              "      }\n",
              "    </script>\n",
              "  </div>\n",
              "\n",
              "\n",
              "<div id=\"df-60ee21e0-ef5b-4ff7-aef2-0e02ea403da0\">\n",
              "  <button class=\"colab-df-quickchart\" onclick=\"quickchart('df-60ee21e0-ef5b-4ff7-aef2-0e02ea403da0')\"\n",
              "            title=\"Suggest charts\"\n",
              "            style=\"display:none;\">\n",
              "\n",
              "<svg xmlns=\"http://www.w3.org/2000/svg\" height=\"24px\"viewBox=\"0 0 24 24\"\n",
              "     width=\"24px\">\n",
              "    <g>\n",
              "        <path d=\"M19 3H5c-1.1 0-2 .9-2 2v14c0 1.1.9 2 2 2h14c1.1 0 2-.9 2-2V5c0-1.1-.9-2-2-2zM9 17H7v-7h2v7zm4 0h-2V7h2v10zm4 0h-2v-4h2v4z\"/>\n",
              "    </g>\n",
              "</svg>\n",
              "  </button>\n",
              "\n",
              "<style>\n",
              "  .colab-df-quickchart {\n",
              "      --bg-color: #E8F0FE;\n",
              "      --fill-color: #1967D2;\n",
              "      --hover-bg-color: #E2EBFA;\n",
              "      --hover-fill-color: #174EA6;\n",
              "      --disabled-fill-color: #AAA;\n",
              "      --disabled-bg-color: #DDD;\n",
              "  }\n",
              "\n",
              "  [theme=dark] .colab-df-quickchart {\n",
              "      --bg-color: #3B4455;\n",
              "      --fill-color: #D2E3FC;\n",
              "      --hover-bg-color: #434B5C;\n",
              "      --hover-fill-color: #FFFFFF;\n",
              "      --disabled-bg-color: #3B4455;\n",
              "      --disabled-fill-color: #666;\n",
              "  }\n",
              "\n",
              "  .colab-df-quickchart {\n",
              "    background-color: var(--bg-color);\n",
              "    border: none;\n",
              "    border-radius: 50%;\n",
              "    cursor: pointer;\n",
              "    display: none;\n",
              "    fill: var(--fill-color);\n",
              "    height: 32px;\n",
              "    padding: 0;\n",
              "    width: 32px;\n",
              "  }\n",
              "\n",
              "  .colab-df-quickchart:hover {\n",
              "    background-color: var(--hover-bg-color);\n",
              "    box-shadow: 0 1px 2px rgba(60, 64, 67, 0.3), 0 1px 3px 1px rgba(60, 64, 67, 0.15);\n",
              "    fill: var(--button-hover-fill-color);\n",
              "  }\n",
              "\n",
              "  .colab-df-quickchart-complete:disabled,\n",
              "  .colab-df-quickchart-complete:disabled:hover {\n",
              "    background-color: var(--disabled-bg-color);\n",
              "    fill: var(--disabled-fill-color);\n",
              "    box-shadow: none;\n",
              "  }\n",
              "\n",
              "  .colab-df-spinner {\n",
              "    border: 2px solid var(--fill-color);\n",
              "    border-color: transparent;\n",
              "    border-bottom-color: var(--fill-color);\n",
              "    animation:\n",
              "      spin 1s steps(1) infinite;\n",
              "  }\n",
              "\n",
              "  @keyframes spin {\n",
              "    0% {\n",
              "      border-color: transparent;\n",
              "      border-bottom-color: var(--fill-color);\n",
              "      border-left-color: var(--fill-color);\n",
              "    }\n",
              "    20% {\n",
              "      border-color: transparent;\n",
              "      border-left-color: var(--fill-color);\n",
              "      border-top-color: var(--fill-color);\n",
              "    }\n",
              "    30% {\n",
              "      border-color: transparent;\n",
              "      border-left-color: var(--fill-color);\n",
              "      border-top-color: var(--fill-color);\n",
              "      border-right-color: var(--fill-color);\n",
              "    }\n",
              "    40% {\n",
              "      border-color: transparent;\n",
              "      border-right-color: var(--fill-color);\n",
              "      border-top-color: var(--fill-color);\n",
              "    }\n",
              "    60% {\n",
              "      border-color: transparent;\n",
              "      border-right-color: var(--fill-color);\n",
              "    }\n",
              "    80% {\n",
              "      border-color: transparent;\n",
              "      border-right-color: var(--fill-color);\n",
              "      border-bottom-color: var(--fill-color);\n",
              "    }\n",
              "    90% {\n",
              "      border-color: transparent;\n",
              "      border-bottom-color: var(--fill-color);\n",
              "    }\n",
              "  }\n",
              "</style>\n",
              "\n",
              "  <script>\n",
              "    async function quickchart(key) {\n",
              "      const quickchartButtonEl =\n",
              "        document.querySelector('#' + key + ' button');\n",
              "      quickchartButtonEl.disabled = true;  // To prevent multiple clicks.\n",
              "      quickchartButtonEl.classList.add('colab-df-spinner');\n",
              "      try {\n",
              "        const charts = await google.colab.kernel.invokeFunction(\n",
              "            'suggestCharts', [key], {});\n",
              "      } catch (error) {\n",
              "        console.error('Error during call to suggestCharts:', error);\n",
              "      }\n",
              "      quickchartButtonEl.classList.remove('colab-df-spinner');\n",
              "      quickchartButtonEl.classList.add('colab-df-quickchart-complete');\n",
              "    }\n",
              "    (() => {\n",
              "      let quickchartButtonEl =\n",
              "        document.querySelector('#df-60ee21e0-ef5b-4ff7-aef2-0e02ea403da0 button');\n",
              "      quickchartButtonEl.style.display =\n",
              "        google.colab.kernel.accessAllowed ? 'block' : 'none';\n",
              "    })();\n",
              "  </script>\n",
              "</div>\n",
              "\n",
              "  <div id=\"id_cb68cb70-db3e-4135-b930-ad838acb8aaa\">\n",
              "    <style>\n",
              "      .colab-df-generate {\n",
              "        background-color: #E8F0FE;\n",
              "        border: none;\n",
              "        border-radius: 50%;\n",
              "        cursor: pointer;\n",
              "        display: none;\n",
              "        fill: #1967D2;\n",
              "        height: 32px;\n",
              "        padding: 0 0 0 0;\n",
              "        width: 32px;\n",
              "      }\n",
              "\n",
              "      .colab-df-generate:hover {\n",
              "        background-color: #E2EBFA;\n",
              "        box-shadow: 0px 1px 2px rgba(60, 64, 67, 0.3), 0px 1px 3px 1px rgba(60, 64, 67, 0.15);\n",
              "        fill: #174EA6;\n",
              "      }\n",
              "\n",
              "      [theme=dark] .colab-df-generate {\n",
              "        background-color: #3B4455;\n",
              "        fill: #D2E3FC;\n",
              "      }\n",
              "\n",
              "      [theme=dark] .colab-df-generate:hover {\n",
              "        background-color: #434B5C;\n",
              "        box-shadow: 0px 1px 3px 1px rgba(0, 0, 0, 0.15);\n",
              "        filter: drop-shadow(0px 1px 2px rgba(0, 0, 0, 0.3));\n",
              "        fill: #FFFFFF;\n",
              "      }\n",
              "    </style>\n",
              "    <button class=\"colab-df-generate\" onclick=\"generateWithVariable('df')\"\n",
              "            title=\"Generate code using this dataframe.\"\n",
              "            style=\"display:none;\">\n",
              "\n",
              "  <svg xmlns=\"http://www.w3.org/2000/svg\" height=\"24px\"viewBox=\"0 0 24 24\"\n",
              "       width=\"24px\">\n",
              "    <path d=\"M7,19H8.4L18.45,9,17,7.55,7,17.6ZM5,21V16.75L18.45,3.32a2,2,0,0,1,2.83,0l1.4,1.43a1.91,1.91,0,0,1,.58,1.4,1.91,1.91,0,0,1-.58,1.4L9.25,21ZM18.45,9,17,7.55Zm-12,3A5.31,5.31,0,0,0,4.9,8.1,5.31,5.31,0,0,0,1,6.5,5.31,5.31,0,0,0,4.9,4.9,5.31,5.31,0,0,0,6.5,1,5.31,5.31,0,0,0,8.1,4.9,5.31,5.31,0,0,0,12,6.5,5.46,5.46,0,0,0,6.5,12Z\"/>\n",
              "  </svg>\n",
              "    </button>\n",
              "    <script>\n",
              "      (() => {\n",
              "      const buttonEl =\n",
              "        document.querySelector('#id_cb68cb70-db3e-4135-b930-ad838acb8aaa button.colab-df-generate');\n",
              "      buttonEl.style.display =\n",
              "        google.colab.kernel.accessAllowed ? 'block' : 'none';\n",
              "\n",
              "      buttonEl.onclick = () => {\n",
              "        google.colab.notebook.generateWithVariable('df');\n",
              "      }\n",
              "      })();\n",
              "    </script>\n",
              "  </div>\n",
              "\n",
              "    </div>\n",
              "  </div>\n"
            ],
            "application/vnd.google.colaboratory.intrinsic+json": {
              "type": "dataframe",
              "variable_name": "df"
            }
          },
          "metadata": {},
          "execution_count": 232
        }
      ]
    },
    {
      "cell_type": "code",
      "source": [
        "df.isnull().sum()"
      ],
      "metadata": {
        "colab": {
          "base_uri": "https://localhost:8080/"
        },
        "id": "Z-OJcjh6UcNO",
        "outputId": "90f70eb2-cb46-447f-d373-719cabff2466"
      },
      "execution_count": null,
      "outputs": [
        {
          "output_type": "execute_result",
          "data": {
            "text/plain": [
              "origin                           0\n",
              "destination                      0\n",
              "start_date                       0\n",
              "end_date                         0\n",
              "train_type                       0\n",
              "train_class                      0\n",
              "fare                             0\n",
              "duration_to_reach_destination    0\n",
              "duration_seconds                 0\n",
              "price_handled                    0\n",
              "dtype: int64"
            ]
          },
          "metadata": {},
          "execution_count": 233
        }
      ]
    },
    {
      "cell_type": "code",
      "source": [
        "\n",
        "# Initialize OneHotEncoder\n",
        "encoder = OneHotEncoder()\n",
        "\n",
        "# Fit and transform the data\n",
        "encoded_data = encoder.fit_transform(df[['origin', 'destination', 'train_type', 'train_class', 'fare']])\n",
        "\n",
        "# Convert the encoded data to a DataFrame\n",
        "encoded_df = pd.DataFrame(encoded_data.toarray(), columns=encoder.get_feature_names_out(['origin', 'destination', 'train_type', 'train_class', 'fare']))\n",
        "\n"
      ],
      "metadata": {
        "id": "WWDlth5VkYdA"
      },
      "execution_count": null,
      "outputs": []
    },
    {
      "cell_type": "markdown",
      "source": [
        "### Applying PCA on encoded columns"
      ],
      "metadata": {
        "id": "AuaYTOGNo6DQ"
      }
    },
    {
      "cell_type": "code",
      "source": [
        "# Visualizing optimun number of components for PCA\n",
        "# Initialize PCA\n",
        "pca = PCA()\n",
        "\n",
        "# Fit PCA to the standardized data\n",
        "pca.fit(encoded_df)\n",
        "\n",
        "# Compute the explained variance ratio for each component\n",
        "explained_variance_ratio = pca.explained_variance_ratio_\n",
        "\n",
        "# Plot the explained variance ratio against the component number\n",
        "plt.plot(np.arange(1, len(explained_variance_ratio) + 1), explained_variance_ratio, marker='o', linestyle='-')\n",
        "plt.xlabel('Number of Components')\n",
        "plt.ylabel('Explained Variance Ratio')\n",
        "plt.title('Explained Variance Ratio vs. Number of Components')\n",
        "plt.grid(True)\n",
        "plt.show()"
      ],
      "metadata": {
        "colab": {
          "base_uri": "https://localhost:8080/",
          "height": 472
        },
        "id": "rpBJKXBao4pV",
        "outputId": "e21a08bb-f463-4726-c7f3-a6e0a78e7b48"
      },
      "execution_count": null,
      "outputs": [
        {
          "output_type": "display_data",
          "data": {
            "text/plain": [
              "<Figure size 640x480 with 1 Axes>"
            ],
            "image/png": "[encoded data removed]"
          },
          "metadata": {}
        }
      ]
    },
    {
      "cell_type": "code",
      "source": [
        "# Reduce dimensionality using PCA with 11 components\n",
        "pca = PCA(n_components=11)\n",
        "X_pca = pca.fit_transform(encoded_df)\n",
        "\n",
        "# Convert PCA results to a DataFrame\n",
        "pca_columns = [f'PC{i+1}' for i in range(11)]\n",
        "df_pca = pd.DataFrame(data=X_pca, columns=pca_columns)\n",
        "\n",
        "# Display the DataFrame\n",
        "print(df_pca.head())"
      ],
      "metadata": {
        "colab": {
          "base_uri": "https://localhost:8080/"
        },
        "id": "xeK0C29JrCYp",
        "outputId": "e76ad772-cdbd-4b02-af70-29721c0fe329"
      },
      "execution_count": null,
      "outputs": [
        {
          "output_type": "stream",
          "name": "stdout",
          "text": [
            "        PC1       PC2       PC3       PC4       PC5       PC6       PC7  \\\n",
            "0  0.264497  0.676314  1.089663  0.714374 -0.097434  0.751569  0.501622   \n",
            "1  0.261804  0.638700  1.016541  0.209513 -0.065573  0.635397  0.315845   \n",
            "2  0.260328  0.633606  1.023525  0.197317 -0.070341  0.613375  0.321463   \n",
            "3  0.261804  0.638700  1.016541  0.209513 -0.065573  0.635397  0.315845   \n",
            "4 -0.030851  0.640802  0.084486  0.194608 -0.079313 -0.107367  0.077324   \n",
            "\n",
            "        PC8       PC9      PC10      PC11  \n",
            "0 -0.024468 -0.233848  0.857644  0.416857  \n",
            "1  0.227867  0.058303  1.015609  1.120139  \n",
            "2  0.232010  0.068826  1.005168  1.115728  \n",
            "3  0.227867  0.058303  1.015609  1.120139  \n",
            "4  0.669242  0.637506  0.420123 -0.316469  \n"
          ]
        }
      ]
    },
    {
      "cell_type": "code",
      "source": [
        "# # Drop the original categorical columns\n",
        "df.drop(columns=['origin', 'destination', 'train_type', 'train_class', 'fare'], inplace=True)"
      ],
      "metadata": {
        "id": "sFla5NHMzdkY"
      },
      "execution_count": null,
      "outputs": []
    },
    {
      "cell_type": "code",
      "source": [
        "df.shape"
      ],
      "metadata": {
        "colab": {
          "base_uri": "https://localhost:8080/"
        },
        "id": "50WNI-PkrCUX",
        "outputId": "fb47af18-551f-492f-92c6-c88427fd2d1a"
      },
      "execution_count": null,
      "outputs": [
        {
          "output_type": "execute_result",
          "data": {
            "text/plain": [
              "(215266, 5)"
            ]
          },
          "metadata": {},
          "execution_count": 240
        }
      ]
    },
    {
      "cell_type": "code",
      "source": [
        "df_pca.shape"
      ],
      "metadata": {
        "colab": {
          "base_uri": "https://localhost:8080/"
        },
        "id": "2uMm29nNx7M4",
        "outputId": "e9844430-6645-4ac3-c99e-7ca4977044a7"
      },
      "execution_count": null,
      "outputs": [
        {
          "output_type": "execute_result",
          "data": {
            "text/plain": [
              "(215266, 11)"
            ]
          },
          "metadata": {},
          "execution_count": 238
        }
      ]
    },
    {
      "cell_type": "markdown",
      "source": [
        "## **Feature Engineering**"
      ],
      "metadata": {
        "id": "xILIuW6x71rl"
      }
    },
    {
      "cell_type": "code",
      "source": [
        "# stnadartdize the original dataset numerical values\n",
        "df['start_month'] = df['start_date'].dt.month\n",
        "df['start_day'] = df['start_date'].dt.day\n",
        "\n",
        "df['end_month'] = df['end_date'].dt.month\n",
        "df['end_day'] = df['end_date'].dt.day\n",
        "\n",
        "# Drop the original datetime columns\n",
        "df.drop(columns=['start_date', 'end_date'], inplace=True)\n",
        "\n",
        "# Convert timedelta to total seconds (numeric representation)\n",
        "df['duration_seconds'] = df['duration_to_reach_destination'].dt.total_seconds()\n",
        "\n",
        "# Drop the original timedelta column\n",
        "df.drop(columns=['duration_to_reach_destination'], inplace=True)"
      ],
      "metadata": {
        "id": "LaMnOVm3zofM"
      },
      "execution_count": null,
      "outputs": []
    },
    {
      "cell_type": "code",
      "source": [
        "# standardize the df dataset\n",
        "# Initialize StandardScaler\n",
        "scaler = StandardScaler()\n",
        "\n",
        "# Apply standard scaling to selected columns\n",
        "df_scaled = df.copy()  # Create a copy of the DataFrame\n",
        "df_scaled = scaler.fit_transform(df_scaled)\n",
        "\n",
        "# Convert the scaled NumPy array back into a DataFrame\n",
        "df_scaled = pd.DataFrame(df_scaled, columns=df.columns)\n",
        "\n",
        "# Display the head of the scaled DataFrame\n",
        "df_scaled.head()"
      ],
      "metadata": {
        "colab": {
          "base_uri": "https://localhost:8080/",
          "height": 206
        },
        "id": "jbtpm1yL0lEW",
        "outputId": "cc562357-3130-408e-fe74-ff84e0d5a18e"
      },
      "execution_count": null,
      "outputs": [
        {
          "output_type": "execute_result",
          "data": {
            "text/plain": [
              "   duration_seconds  price_handled  start_month  start_day  end_month  \\\n",
              "0          0.278446       0.114763          0.0  -0.750425        0.0   \n",
              "1          0.770643      -0.893916          0.0  -0.750425        0.0   \n",
              "2          0.822846      -0.678785          0.0  -0.750425        0.0   \n",
              "3          0.405224      -0.652401          0.0  -0.750425        0.0   \n",
              "4          0.024890      -1.167903          0.0  -0.750425        0.0   \n",
              "\n",
              "    end_day  \n",
              "0 -0.752187  \n",
              "1 -0.752187  \n",
              "2 -0.752187  \n",
              "3 -0.752187  \n",
              "4 -0.752187  "
            ],
            "text/html": [
              "\n",
              "  <div id=\"df-7a497ac9-1ef7-4d6d-9c99-7e631bbae037\" class=\"colab-df-container\">\n",
              "    <div>\n",
              "<style scoped>\n",
              "    .dataframe tbody tr th:only-of-type {\n",
              "        vertical-align: middle;\n",
              "    }\n",
              "\n",
              "    .dataframe tbody tr th {\n",
              "        vertical-align: top;\n",
              "    }\n",
              "\n",
              "    .dataframe thead th {\n",
              "        text-align: right;\n",
              "    }\n",
              "</style>\n",
              "<table border=\"1\" class=\"dataframe\">\n",
              "  <thead>\n",
              "    <tr style=\"text-align: right;\">\n",
              "      <th></th>\n",
              "      <th>duration_seconds</th>\n",
              "      <th>price_handled</th>\n",
              "      <th>start_month</th>\n",
              "      <th>start_day</th>\n",
              "      <th>end_month</th>\n",
              "      <th>end_day</th>\n",
              "    </tr>\n",
              "  </thead>\n",
              "  <tbody>\n",
              "    <tr>\n",
              "      <th>0</th>\n",
              "      <td>0.278446</td>\n",
              "      <td>0.114763</td>\n",
              "      <td>0.0</td>\n",
              "      <td>-0.750425</td>\n",
              "      <td>0.0</td>\n",
              "      <td>-0.752187</td>\n",
              "    </tr>\n",
              "    <tr>\n",
              "      <th>1</th>\n",
              "      <td>0.770643</td>\n",
              "      <td>-0.893916</td>\n",
              "      <td>0.0</td>\n",
              "      <td>-0.750425</td>\n",
              "      <td>0.0</td>\n",
              "      <td>-0.752187</td>\n",
              "    </tr>\n",
              "    <tr>\n",
              "      <th>2</th>\n",
              "      <td>0.822846</td>\n",
              "      <td>-0.678785</td>\n",
              "      <td>0.0</td>\n",
              "      <td>-0.750425</td>\n",
              "      <td>0.0</td>\n",
              "      <td>-0.752187</td>\n",
              "    </tr>\n",
              "    <tr>\n",
              "      <th>3</th>\n",
              "      <td>0.405224</td>\n",
              "      <td>-0.652401</td>\n",
              "      <td>0.0</td>\n",
              "      <td>-0.750425</td>\n",
              "      <td>0.0</td>\n",
              "      <td>-0.752187</td>\n",
              "    </tr>\n",
              "    <tr>\n",
              "      <th>4</th>\n",
              "      <td>0.024890</td>\n",
              "      <td>-1.167903</td>\n",
              "      <td>0.0</td>\n",
              "      <td>-0.750425</td>\n",
              "      <td>0.0</td>\n",
              "      <td>-0.752187</td>\n",
              "    </tr>\n",
              "  </tbody>\n",
              "</table>\n",
              "</div>\n",
              "    <div class=\"colab-df-buttons\">\n",
              "\n",
              "  <div class=\"colab-df-container\">\n",
              "    <button class=\"colab-df-convert\" onclick=\"convertToInteractive('df-7a497ac9-1ef7-4d6d-9c99-7e631bbae037')\"\n",
              "            title=\"Convert this dataframe to an interactive table.\"\n",
              "            style=\"display:none;\">\n",
              "\n",
              "  <svg xmlns=\"http://www.w3.org/2000/svg\" height=\"24px\" viewBox=\"0 -960 960 960\">\n",
              "    <path d=\"M120-120v-720h720v720H120Zm60-500h600v-160H180v160Zm220 220h160v-160H400v160Zm0 220h160v-160H400v160ZM180-400h160v-160H180v160Zm440 0h160v-160H620v160ZM180-180h160v-160H180v160Zm440 0h160v-160H620v160Z\"/>\n",
              "  </svg>\n",
              "    </button>\n",
              "\n",
              "  <style>\n",
              "    .colab-df-container {\n",
              "      display:flex;\n",
              "      gap: 12px;\n",
              "    }\n",
              "\n",
              "    .colab-df-convert {\n",
              "      background-color: #E8F0FE;\n",
              "      border: none;\n",
              "      border-radius: 50%;\n",
              "      cursor: pointer;\n",
              "      display: none;\n",
              "      fill: #1967D2;\n",
              "      height: 32px;\n",
              "      padding: 0 0 0 0;\n",
              "      width: 32px;\n",
              "    }\n",
              "\n",
              "    .colab-df-convert:hover {\n",
              "      background-color: #E2EBFA;\n",
              "      box-shadow: 0px 1px 2px rgba(60, 64, 67, 0.3), 0px 1px 3px 1px rgba(60, 64, 67, 0.15);\n",
              "      fill: #174EA6;\n",
              "    }\n",
              "\n",
              "    .colab-df-buttons div {\n",
              "      margin-bottom: 4px;\n",
              "    }\n",
              "\n",
              "    [theme=dark] .colab-df-convert {\n",
              "      background-color: #3B4455;\n",
              "      fill: #D2E3FC;\n",
              "    }\n",
              "\n",
              "    [theme=dark] .colab-df-convert:hover {\n",
              "      background-color: #434B5C;\n",
              "      box-shadow: 0px 1px 3px 1px rgba(0, 0, 0, 0.15);\n",
              "      filter: drop-shadow(0px 1px 2px rgba(0, 0, 0, 0.3));\n",
              "      fill: #FFFFFF;\n",
              "    }\n",
              "  </style>\n",
              "\n",
              "    <script>\n",
              "      const buttonEl =\n",
              "        document.querySelector('#df-7a497ac9-1ef7-4d6d-9c99-7e631bbae037 button.colab-df-convert');\n",
              "      buttonEl.style.display =\n",
              "        google.colab.kernel.accessAllowed ? 'block' : 'none';\n",
              "\n",
              "      async function convertToInteractive(key) {\n",
              "        const element = document.querySelector('#df-7a497ac9-1ef7-4d6d-9c99-7e631bbae037');\n",
              "        const dataTable =\n",
              "          await google.colab.kernel.invokeFunction('convertToInteractive',\n",
              "                                                    [key], {});\n",
              "        if (!dataTable) return;\n",
              "\n",
              "        const docLinkHtml = 'Like what you see? Visit the ' +\n",
              "          '<a target=\"_blank\" href=https://colab.research.google.com/notebooks/data_table.ipynb>data table notebook</a>'\n",
              "          + ' to learn more about interactive tables.';\n",
              "        element.innerHTML = '';\n",
              "        dataTable['output_type'] = 'display_data';\n",
              "        await google.colab.output.renderOutput(dataTable, element);\n",
              "        const docLink = document.createElement('div');\n",
              "        docLink.innerHTML = docLinkHtml;\n",
              "        element.appendChild(docLink);\n",
              "      }\n",
              "    </script>\n",
              "  </div>\n",
              "\n",
              "\n",
              "<div id=\"df-bea3b54e-8067-4a7d-89f2-176e89e0e201\">\n",
              "  <button class=\"colab-df-quickchart\" onclick=\"quickchart('df-bea3b54e-8067-4a7d-89f2-176e89e0e201')\"\n",
              "            title=\"Suggest charts\"\n",
              "            style=\"display:none;\">\n",
              "\n",
              "<svg xmlns=\"http://www.w3.org/2000/svg\" height=\"24px\"viewBox=\"0 0 24 24\"\n",
              "     width=\"24px\">\n",
              "    <g>\n",
              "        <path d=\"M19 3H5c-1.1 0-2 .9-2 2v14c0 1.1.9 2 2 2h14c1.1 0 2-.9 2-2V5c0-1.1-.9-2-2-2zM9 17H7v-7h2v7zm4 0h-2V7h2v10zm4 0h-2v-4h2v4z\"/>\n",
              "    </g>\n",
              "</svg>\n",
              "  </button>\n",
              "\n",
              "<style>\n",
              "  .colab-df-quickchart {\n",
              "      --bg-color: #E8F0FE;\n",
              "      --fill-color: #1967D2;\n",
              "      --hover-bg-color: #E2EBFA;\n",
              "      --hover-fill-color: #174EA6;\n",
              "      --disabled-fill-color: #AAA;\n",
              "      --disabled-bg-color: #DDD;\n",
              "  }\n",
              "\n",
              "  [theme=dark] .colab-df-quickchart {\n",
              "      --bg-color: #3B4455;\n",
              "      --fill-color: #D2E3FC;\n",
              "      --hover-bg-color: #434B5C;\n",
              "      --hover-fill-color: #FFFFFF;\n",
              "      --disabled-bg-color: #3B4455;\n",
              "      --disabled-fill-color: #666;\n",
              "  }\n",
              "\n",
              "  .colab-df-quickchart {\n",
              "    background-color: var(--bg-color);\n",
              "    border: none;\n",
              "    border-radius: 50%;\n",
              "    cursor: pointer;\n",
              "    display: none;\n",
              "    fill: var(--fill-color);\n",
              "    height: 32px;\n",
              "    padding: 0;\n",
              "    width: 32px;\n",
              "  }\n",
              "\n",
              "  .colab-df-quickchart:hover {\n",
              "    background-color: var(--hover-bg-color);\n",
              "    box-shadow: 0 1px 2px rgba(60, 64, 67, 0.3), 0 1px 3px 1px rgba(60, 64, 67, 0.15);\n",
              "    fill: var(--button-hover-fill-color);\n",
              "  }\n",
              "\n",
              "  .colab-df-quickchart-complete:disabled,\n",
              "  .colab-df-quickchart-complete:disabled:hover {\n",
              "    background-color: var(--disabled-bg-color);\n",
              "    fill: var(--disabled-fill-color);\n",
              "    box-shadow: none;\n",
              "  }\n",
              "\n",
              "  .colab-df-spinner {\n",
              "    border: 2px solid var(--fill-color);\n",
              "    border-color: transparent;\n",
              "    border-bottom-color: var(--fill-color);\n",
              "    animation:\n",
              "      spin 1s steps(1) infinite;\n",
              "  }\n",
              "\n",
              "  @keyframes spin {\n",
              "    0% {\n",
              "      border-color: transparent;\n",
              "      border-bottom-color: var(--fill-color);\n",
              "      border-left-color: var(--fill-color);\n",
              "    }\n",
              "    20% {\n",
              "      border-color: transparent;\n",
              "      border-left-color: var(--fill-color);\n",
              "      border-top-color: var(--fill-color);\n",
              "    }\n",
              "    30% {\n",
              "      border-color: transparent;\n",
              "      border-left-color: var(--fill-color);\n",
              "      border-top-color: var(--fill-color);\n",
              "      border-right-color: var(--fill-color);\n",
              "    }\n",
              "    40% {\n",
              "      border-color: transparent;\n",
              "      border-right-color: var(--fill-color);\n",
              "      border-top-color: var(--fill-color);\n",
              "    }\n",
              "    60% {\n",
              "      border-color: transparent;\n",
              "      border-right-color: var(--fill-color);\n",
              "    }\n",
              "    80% {\n",
              "      border-color: transparent;\n",
              "      border-right-color: var(--fill-color);\n",
              "      border-bottom-color: var(--fill-color);\n",
              "    }\n",
              "    90% {\n",
              "      border-color: transparent;\n",
              "      border-bottom-color: var(--fill-color);\n",
              "    }\n",
              "  }\n",
              "</style>\n",
              "\n",
              "  <script>\n",
              "    async function quickchart(key) {\n",
              "      const quickchartButtonEl =\n",
              "        document.querySelector('#' + key + ' button');\n",
              "      quickchartButtonEl.disabled = true;  // To prevent multiple clicks.\n",
              "      quickchartButtonEl.classList.add('colab-df-spinner');\n",
              "      try {\n",
              "        const charts = await google.colab.kernel.invokeFunction(\n",
              "            'suggestCharts', [key], {});\n",
              "      } catch (error) {\n",
              "        console.error('Error during call to suggestCharts:', error);\n",
              "      }\n",
              "      quickchartButtonEl.classList.remove('colab-df-spinner');\n",
              "      quickchartButtonEl.classList.add('colab-df-quickchart-complete');\n",
              "    }\n",
              "    (() => {\n",
              "      let quickchartButtonEl =\n",
              "        document.querySelector('#df-bea3b54e-8067-4a7d-89f2-176e89e0e201 button');\n",
              "      quickchartButtonEl.style.display =\n",
              "        google.colab.kernel.accessAllowed ? 'block' : 'none';\n",
              "    })();\n",
              "  </script>\n",
              "</div>\n",
              "\n",
              "    </div>\n",
              "  </div>\n"
            ],
            "application/vnd.google.colaboratory.intrinsic+json": {
              "type": "dataframe",
              "variable_name": "df_scaled"
            }
          },
          "metadata": {},
          "execution_count": 248
        }
      ]
    },
    {
      "cell_type": "code",
      "source": [
        "# concat pca dataframe with original dataset\n",
        "df_pca_concat = pd.concat([df_scaled, df_pca], axis=1)\n",
        "df_pca_concat.head()"
      ],
      "metadata": {
        "colab": {
          "base_uri": "https://localhost:8080/",
          "height": 206
        },
        "id": "FzlpCCsCzhsx",
        "outputId": "2a939cc4-888c-44ac-8dd1-93d898343ead"
      },
      "execution_count": null,
      "outputs": [
        {
          "output_type": "execute_result",
          "data": {
            "text/plain": [
              "   duration_seconds  price_handled  start_month  start_day  end_month  \\\n",
              "0          0.278446       0.114763          0.0  -0.750425        0.0   \n",
              "1          0.770643      -0.893916          0.0  -0.750425        0.0   \n",
              "2          0.822846      -0.678785          0.0  -0.750425        0.0   \n",
              "3          0.405224      -0.652401          0.0  -0.750425        0.0   \n",
              "4          0.024890      -1.167903          0.0  -0.750425        0.0   \n",
              "\n",
              "    end_day       PC1       PC2       PC3       PC4       PC5       PC6  \\\n",
              "0 -0.752187  0.264497  0.676314  1.089663  0.714374 -0.097434  0.751569   \n",
              "1 -0.752187  0.261804  0.638700  1.016541  0.209513 -0.065573  0.635397   \n",
              "2 -0.752187  0.260328  0.633606  1.023525  0.197317 -0.070341  0.613375   \n",
              "3 -0.752187  0.261804  0.638700  1.016541  0.209513 -0.065573  0.635397   \n",
              "4 -0.752187 -0.030851  0.640802  0.084486  0.194608 -0.079313 -0.107367   \n",
              "\n",
              "        PC7       PC8       PC9      PC10      PC11  \n",
              "0  0.501622 -0.024468 -0.233848  0.857644  0.416857  \n",
              "1  0.315845  0.227867  0.058303  1.015609  1.120139  \n",
              "2  0.321463  0.232010  0.068826  1.005168  1.115728  \n",
              "3  0.315845  0.227867  0.058303  1.015609  1.120139  \n",
              "4  0.077324  0.669242  0.637506  0.420123 -0.316469  "
            ],
            "text/html": [
              "\n",
              "  <div id=\"df-eac0bf98-8450-4389-9572-795ee9016078\" class=\"colab-df-container\">\n",
              "    <div>\n",
              "<style scoped>\n",
              "    .dataframe tbody tr th:only-of-type {\n",
              "        vertical-align: middle;\n",
              "    }\n",
              "\n",
              "    .dataframe tbody tr th {\n",
              "        vertical-align: top;\n",
              "    }\n",
              "\n",
              "    .dataframe thead th {\n",
              "        text-align: right;\n",
              "    }\n",
              "</style>\n",
              "<table border=\"1\" class=\"dataframe\">\n",
              "  <thead>\n",
              "    <tr style=\"text-align: right;\">\n",
              "      <th></th>\n",
              "      <th>duration_seconds</th>\n",
              "      <th>price_handled</th>\n",
              "      <th>start_month</th>\n",
              "      <th>start_day</th>\n",
              "      <th>end_month</th>\n",
              "      <th>end_day</th>\n",
              "      <th>PC1</th>\n",
              "      <th>PC2</th>\n",
              "      <th>PC3</th>\n",
              "      <th>PC4</th>\n",
              "      <th>PC5</th>\n",
              "      <th>PC6</th>\n",
              "      <th>PC7</th>\n",
              "      <th>PC8</th>\n",
              "      <th>PC9</th>\n",
              "      <th>PC10</th>\n",
              "      <th>PC11</th>\n",
              "    </tr>\n",
              "  </thead>\n",
              "  <tbody>\n",
              "    <tr>\n",
              "      <th>0</th>\n",
              "      <td>0.278446</td>\n",
              "      <td>0.114763</td>\n",
              "      <td>0.0</td>\n",
              "      <td>-0.750425</td>\n",
              "      <td>0.0</td>\n",
              "      <td>-0.752187</td>\n",
              "      <td>0.264497</td>\n",
              "      <td>0.676314</td>\n",
              "      <td>1.089663</td>\n",
              "      <td>0.714374</td>\n",
              "      <td>-0.097434</td>\n",
              "      <td>0.751569</td>\n",
              "      <td>0.501622</td>\n",
              "      <td>-0.024468</td>\n",
              "      <td>-0.233848</td>\n",
              "      <td>0.857644</td>\n",
              "      <td>0.416857</td>\n",
              "    </tr>\n",
              "    <tr>\n",
              "      <th>1</th>\n",
              "      <td>0.770643</td>\n",
              "      <td>-0.893916</td>\n",
              "      <td>0.0</td>\n",
              "      <td>-0.750425</td>\n",
              "      <td>0.0</td>\n",
              "      <td>-0.752187</td>\n",
              "      <td>0.261804</td>\n",
              "      <td>0.638700</td>\n",
              "      <td>1.016541</td>\n",
              "      <td>0.209513</td>\n",
              "      <td>-0.065573</td>\n",
              "      <td>0.635397</td>\n",
              "      <td>0.315845</td>\n",
              "      <td>0.227867</td>\n",
              "      <td>0.058303</td>\n",
              "      <td>1.015609</td>\n",
              "      <td>1.120139</td>\n",
              "    </tr>\n",
              "    <tr>\n",
              "      <th>2</th>\n",
              "      <td>0.822846</td>\n",
              "      <td>-0.678785</td>\n",
              "      <td>0.0</td>\n",
              "      <td>-0.750425</td>\n",
              "      <td>0.0</td>\n",
              "      <td>-0.752187</td>\n",
              "      <td>0.260328</td>\n",
              "      <td>0.633606</td>\n",
              "      <td>1.023525</td>\n",
              "      <td>0.197317</td>\n",
              "      <td>-0.070341</td>\n",
              "      <td>0.613375</td>\n",
              "      <td>0.321463</td>\n",
              "      <td>0.232010</td>\n",
              "      <td>0.068826</td>\n",
              "      <td>1.005168</td>\n",
              "      <td>1.115728</td>\n",
              "    </tr>\n",
              "    <tr>\n",
              "      <th>3</th>\n",
              "      <td>0.405224</td>\n",
              "      <td>-0.652401</td>\n",
              "      <td>0.0</td>\n",
              "      <td>-0.750425</td>\n",
              "      <td>0.0</td>\n",
              "      <td>-0.752187</td>\n",
              "      <td>0.261804</td>\n",
              "      <td>0.638700</td>\n",
              "      <td>1.016541</td>\n",
              "      <td>0.209513</td>\n",
              "      <td>-0.065573</td>\n",
              "      <td>0.635397</td>\n",
              "      <td>0.315845</td>\n",
              "      <td>0.227867</td>\n",
              "      <td>0.058303</td>\n",
              "      <td>1.015609</td>\n",
              "      <td>1.120139</td>\n",
              "    </tr>\n",
              "    <tr>\n",
              "      <th>4</th>\n",
              "      <td>0.024890</td>\n",
              "      <td>-1.167903</td>\n",
              "      <td>0.0</td>\n",
              "      <td>-0.750425</td>\n",
              "      <td>0.0</td>\n",
              "      <td>-0.752187</td>\n",
              "      <td>-0.030851</td>\n",
              "      <td>0.640802</td>\n",
              "      <td>0.084486</td>\n",
              "      <td>0.194608</td>\n",
              "      <td>-0.079313</td>\n",
              "      <td>-0.107367</td>\n",
              "      <td>0.077324</td>\n",
              "      <td>0.669242</td>\n",
              "      <td>0.637506</td>\n",
              "      <td>0.420123</td>\n",
              "      <td>-0.316469</td>\n",
              "    </tr>\n",
              "  </tbody>\n",
              "</table>\n",
              "</div>\n",
              "    <div class=\"colab-df-buttons\">\n",
              "\n",
              "  <div class=\"colab-df-container\">\n",
              "    <button class=\"colab-df-convert\" onclick=\"convertToInteractive('df-eac0bf98-8450-4389-9572-795ee9016078')\"\n",
              "            title=\"Convert this dataframe to an interactive table.\"\n",
              "            style=\"display:none;\">\n",
              "\n",
              "  <svg xmlns=\"http://www.w3.org/2000/svg\" height=\"24px\" viewBox=\"0 -960 960 960\">\n",
              "    <path d=\"M120-120v-720h720v720H120Zm60-500h600v-160H180v160Zm220 220h160v-160H400v160Zm0 220h160v-160H400v160ZM180-400h160v-160H180v160Zm440 0h160v-160H620v160ZM180-180h160v-160H180v160Zm440 0h160v-160H620v160Z\"/>\n",
              "  </svg>\n",
              "    </button>\n",
              "\n",
              "  <style>\n",
              "    .colab-df-container {\n",
              "      display:flex;\n",
              "      gap: 12px;\n",
              "    }\n",
              "\n",
              "    .colab-df-convert {\n",
              "      background-color: #E8F0FE;\n",
              "      border: none;\n",
              "      border-radius: 50%;\n",
              "      cursor: pointer;\n",
              "      display: none;\n",
              "      fill: #1967D2;\n",
              "      height: 32px;\n",
              "      padding: 0 0 0 0;\n",
              "      width: 32px;\n",
              "    }\n",
              "\n",
              "    .colab-df-convert:hover {\n",
              "      background-color: #E2EBFA;\n",
              "      box-shadow: 0px 1px 2px rgba(60, 64, 67, 0.3), 0px 1px 3px 1px rgba(60, 64, 67, 0.15);\n",
              "      fill: #174EA6;\n",
              "    }\n",
              "\n",
              "    .colab-df-buttons div {\n",
              "      margin-bottom: 4px;\n",
              "    }\n",
              "\n",
              "    [theme=dark] .colab-df-convert {\n",
              "      background-color: #3B4455;\n",
              "      fill: #D2E3FC;\n",
              "    }\n",
              "\n",
              "    [theme=dark] .colab-df-convert:hover {\n",
              "      background-color: #434B5C;\n",
              "      box-shadow: 0px 1px 3px 1px rgba(0, 0, 0, 0.15);\n",
              "      filter: drop-shadow(0px 1px 2px rgba(0, 0, 0, 0.3));\n",
              "      fill: #FFFFFF;\n",
              "    }\n",
              "  </style>\n",
              "\n",
              "    <script>\n",
              "      const buttonEl =\n",
              "        document.querySelector('#df-eac0bf98-8450-4389-9572-795ee9016078 button.colab-df-convert');\n",
              "      buttonEl.style.display =\n",
              "        google.colab.kernel.accessAllowed ? 'block' : 'none';\n",
              "\n",
              "      async function convertToInteractive(key) {\n",
              "        const element = document.querySelector('#df-eac0bf98-8450-4389-9572-795ee9016078');\n",
              "        const dataTable =\n",
              "          await google.colab.kernel.invokeFunction('convertToInteractive',\n",
              "                                                    [key], {});\n",
              "        if (!dataTable) return;\n",
              "\n",
              "        const docLinkHtml = 'Like what you see? Visit the ' +\n",
              "          '<a target=\"_blank\" href=https://colab.research.google.com/notebooks/data_table.ipynb>data table notebook</a>'\n",
              "          + ' to learn more about interactive tables.';\n",
              "        element.innerHTML = '';\n",
              "        dataTable['output_type'] = 'display_data';\n",
              "        await google.colab.output.renderOutput(dataTable, element);\n",
              "        const docLink = document.createElement('div');\n",
              "        docLink.innerHTML = docLinkHtml;\n",
              "        element.appendChild(docLink);\n",
              "      }\n",
              "    </script>\n",
              "  </div>\n",
              "\n",
              "\n",
              "<div id=\"df-3c76502f-0fef-4b00-b821-4c39552a4a69\">\n",
              "  <button class=\"colab-df-quickchart\" onclick=\"quickchart('df-3c76502f-0fef-4b00-b821-4c39552a4a69')\"\n",
              "            title=\"Suggest charts\"\n",
              "            style=\"display:none;\">\n",
              "\n",
              "<svg xmlns=\"http://www.w3.org/2000/svg\" height=\"24px\"viewBox=\"0 0 24 24\"\n",
              "     width=\"24px\">\n",
              "    <g>\n",
              "        <path d=\"M19 3H5c-1.1 0-2 .9-2 2v14c0 1.1.9 2 2 2h14c1.1 0 2-.9 2-2V5c0-1.1-.9-2-2-2zM9 17H7v-7h2v7zm4 0h-2V7h2v10zm4 0h-2v-4h2v4z\"/>\n",
              "    </g>\n",
              "</svg>\n",
              "  </button>\n",
              "\n",
              "<style>\n",
              "  .colab-df-quickchart {\n",
              "      --bg-color: #E8F0FE;\n",
              "      --fill-color: #1967D2;\n",
              "      --hover-bg-color: #E2EBFA;\n",
              "      --hover-fill-color: #174EA6;\n",
              "      --disabled-fill-color: #AAA;\n",
              "      --disabled-bg-color: #DDD;\n",
              "  }\n",
              "\n",
              "  [theme=dark] .colab-df-quickchart {\n",
              "      --bg-color: #3B4455;\n",
              "      --fill-color: #D2E3FC;\n",
              "      --hover-bg-color: #434B5C;\n",
              "      --hover-fill-color: #FFFFFF;\n",
              "      --disabled-bg-color: #3B4455;\n",
              "      --disabled-fill-color: #666;\n",
              "  }\n",
              "\n",
              "  .colab-df-quickchart {\n",
              "    background-color: var(--bg-color);\n",
              "    border: none;\n",
              "    border-radius: 50%;\n",
              "    cursor: pointer;\n",
              "    display: none;\n",
              "    fill: var(--fill-color);\n",
              "    height: 32px;\n",
              "    padding: 0;\n",
              "    width: 32px;\n",
              "  }\n",
              "\n",
              "  .colab-df-quickchart:hover {\n",
              "    background-color: var(--hover-bg-color);\n",
              "    box-shadow: 0 1px 2px rgba(60, 64, 67, 0.3), 0 1px 3px 1px rgba(60, 64, 67, 0.15);\n",
              "    fill: var(--button-hover-fill-color);\n",
              "  }\n",
              "\n",
              "  .colab-df-quickchart-complete:disabled,\n",
              "  .colab-df-quickchart-complete:disabled:hover {\n",
              "    background-color: var(--disabled-bg-color);\n",
              "    fill: var(--disabled-fill-color);\n",
              "    box-shadow: none;\n",
              "  }\n",
              "\n",
              "  .colab-df-spinner {\n",
              "    border: 2px solid var(--fill-color);\n",
              "    border-color: transparent;\n",
              "    border-bottom-color: var(--fill-color);\n",
              "    animation:\n",
              "      spin 1s steps(1) infinite;\n",
              "  }\n",
              "\n",
              "  @keyframes spin {\n",
              "    0% {\n",
              "      border-color: transparent;\n",
              "      border-bottom-color: var(--fill-color);\n",
              "      border-left-color: var(--fill-color);\n",
              "    }\n",
              "    20% {\n",
              "      border-color: transparent;\n",
              "      border-left-color: var(--fill-color);\n",
              "      border-top-color: var(--fill-color);\n",
              "    }\n",
              "    30% {\n",
              "      border-color: transparent;\n",
              "      border-left-color: var(--fill-color);\n",
              "      border-top-color: var(--fill-color);\n",
              "      border-right-color: var(--fill-color);\n",
              "    }\n",
              "    40% {\n",
              "      border-color: transparent;\n",
              "      border-right-color: var(--fill-color);\n",
              "      border-top-color: var(--fill-color);\n",
              "    }\n",
              "    60% {\n",
              "      border-color: transparent;\n",
              "      border-right-color: var(--fill-color);\n",
              "    }\n",
              "    80% {\n",
              "      border-color: transparent;\n",
              "      border-right-color: var(--fill-color);\n",
              "      border-bottom-color: var(--fill-color);\n",
              "    }\n",
              "    90% {\n",
              "      border-color: transparent;\n",
              "      border-bottom-color: var(--fill-color);\n",
              "    }\n",
              "  }\n",
              "</style>\n",
              "\n",
              "  <script>\n",
              "    async function quickchart(key) {\n",
              "      const quickchartButtonEl =\n",
              "        document.querySelector('#' + key + ' button');\n",
              "      quickchartButtonEl.disabled = true;  // To prevent multiple clicks.\n",
              "      quickchartButtonEl.classList.add('colab-df-spinner');\n",
              "      try {\n",
              "        const charts = await google.colab.kernel.invokeFunction(\n",
              "            'suggestCharts', [key], {});\n",
              "      } catch (error) {\n",
              "        console.error('Error during call to suggestCharts:', error);\n",
              "      }\n",
              "      quickchartButtonEl.classList.remove('colab-df-spinner');\n",
              "      quickchartButtonEl.classList.add('colab-df-quickchart-complete');\n",
              "    }\n",
              "    (() => {\n",
              "      let quickchartButtonEl =\n",
              "        document.querySelector('#df-3c76502f-0fef-4b00-b821-4c39552a4a69 button');\n",
              "      quickchartButtonEl.style.display =\n",
              "        google.colab.kernel.accessAllowed ? 'block' : 'none';\n",
              "    })();\n",
              "  </script>\n",
              "</div>\n",
              "\n",
              "    </div>\n",
              "  </div>\n"
            ],
            "application/vnd.google.colaboratory.intrinsic+json": {
              "type": "dataframe",
              "variable_name": "df_pca_concat"
            }
          },
          "metadata": {},
          "execution_count": 251
        }
      ]
    },
    {
      "cell_type": "code",
      "source": [
        "df_pca_concat.shape"
      ],
      "metadata": {
        "colab": {
          "base_uri": "https://localhost:8080/"
        },
        "id": "bdgGg6Uv17Hr",
        "outputId": "b7928d92-833d-4d06-bacd-c5de910c6aad"
      },
      "execution_count": null,
      "outputs": [
        {
          "output_type": "execute_result",
          "data": {
            "text/plain": [
              "(215266, 17)"
            ]
          },
          "metadata": {},
          "execution_count": 254
        }
      ]
    },
    {
      "cell_type": "code",
      "source": [],
      "metadata": {
        "id": "I49dfLwU2x5p"
      },
      "execution_count": null,
      "outputs": []
    },
    {
      "cell_type": "markdown",
      "source": [
        "## **Train Test Splitting of the dataset**"
      ],
      "metadata": {
        "id": "bBEY2YS63N9_"
      }
    },
    {
      "cell_type": "code",
      "source": [
        "\n",
        "# Extract the 'price_handled' column from df_encoded\n",
        "y = df_pca_concat['price_handled']\n",
        "\n",
        "# Drop the 'price_handled' column from df_encoded\n",
        "X = df_pca_concat.drop(columns=['price_handled'])\n"
      ],
      "metadata": {
        "id": "FkpGyeQ56Ptb"
      },
      "execution_count": null,
      "outputs": []
    },
    {
      "cell_type": "code",
      "source": [
        "print(X.shape)\n",
        "print(y.shape)"
      ],
      "metadata": {
        "colab": {
          "base_uri": "https://localhost:8080/"
        },
        "id": "i676K4Fx4Wbj",
        "outputId": "212a4363-486a-4304-b8a5-be3b4e8a7250"
      },
      "execution_count": null,
      "outputs": [
        {
          "output_type": "stream",
          "name": "stdout",
          "text": [
            "(215266, 16)\n",
            "(215266,)\n"
          ]
        }
      ]
    },
    {
      "cell_type": "code",
      "source": [
        "# Split the data into training and testing sets\n",
        "X_train, X_test, y_train, y_test = train_test_split(X, y, test_size=0.2, random_state=42)"
      ],
      "metadata": {
        "id": "d6RRVkZq-3Wa"
      },
      "execution_count": null,
      "outputs": []
    },
    {
      "cell_type": "code",
      "source": [
        "print(X_train.shape)\n",
        "print(y_train.shape)\n",
        "print(X_test.shape)\n",
        "print(y_test.shape)"
      ],
      "metadata": {
        "colab": {
          "base_uri": "https://localhost:8080/"
        },
        "id": "FqVmvU7pbKCN",
        "outputId": "9f0ed44c-2886-4ad8-cd8a-6d00106d0368"
      },
      "execution_count": null,
      "outputs": [
        {
          "output_type": "stream",
          "name": "stdout",
          "text": [
            "(172212, 16)\n",
            "(172212,)\n",
            "(43054, 16)\n",
            "(43054,)\n"
          ]
        }
      ]
    },
    {
      "cell_type": "markdown",
      "source": [
        "# **Model Creation and Training**"
      ],
      "metadata": {
        "id": "HaPcaa8Z43bq"
      }
    },
    {
      "cell_type": "code",
      "source": [
        "linear regression\n",
        "random forest\n",
        "decision tree\n",
        "XGboost"
      ],
      "metadata": {
        "id": "eC9ldfNabLl-"
      },
      "execution_count": null,
      "outputs": []
    },
    {
      "cell_type": "markdown",
      "source": [
        "## **Linear Regression Model**"
      ],
      "metadata": {
        "id": "TUYBsAxn7gSu"
      }
    },
    {
      "cell_type": "code",
      "source": [
        "# Create and train the Linear Regression model\n",
        "model = LinearRegression()\n",
        "model.fit(X_train, y_train)\n",
        "\n",
        "# Make predictions on the test set\n",
        "y_pred = model.predict(X_test)\n",
        "\n",
        "# Evaluate the model\n",
        "mae = mean_absolute_error(y_test, y_pred)\n",
        "mse = mean_squared_error(y_test, y_pred)\n",
        "rmse = np.sqrt(mse)\n",
        "r2 = r2_score(y_test, y_pred)\n",
        "\n",
        "print(f\"Mean Absolute Error (MAE): {mae}\")\n",
        "print(f\"Mean Squared Error (MSE): {mse}\")\n",
        "print(f\"Root Mean Squared Error (RMSE): {rmse}\")\n",
        "print(f\"R-squared (R2): {r2}\")\n",
        "\n",
        "plt.scatter(np.arange(len(y_test)), y_test, label='Actual', color='blue', marker='o')\n",
        "plt.scatter(np.arange(len(y_pred)), y_pred, label='Predicted', color='red', marker='x')\n",
        "plt.xlabel(\"Actual Values\")\n",
        "plt.ylabel(\"Predicted Values\")\n",
        "plt.title(\"Actual vs. Predicted Values\")\n",
        "plt.show()\n",
        "\n",
        "plt.scatter(y_test, y_test, c='b', label='Actual', alpha=0.5)  # Blue for actual\n",
        "plt.scatter(y_test, y_pred, c='r', label='Predicted', alpha=0.5)  # Red for predicted\n",
        "plt.xlabel(\"Actual Values\")\n",
        "plt.ylabel(\"Predicted Values\")\n",
        "plt.title(\"Actual vs. Predicted Values\")\n",
        "plt.legend(loc='upper left')\n",
        "plt.grid(True)\n",
        "plt.show()"
      ],
      "metadata": {
        "id": "wfJhDiZGTs6d",
        "colab": {
          "base_uri": "https://localhost:8080/",
          "height": 1000
        },
        "outputId": "fbb38f61-5430-4727-ba91-c4c5fbad88d7"
      },
      "execution_count": null,
      "outputs": [
        {
          "output_type": "stream",
          "name": "stdout",
          "text": [
            "Mean Absolute Error (MAE): 0.3354857927419123\n",
            "Mean Squared Error (MSE): 0.22826038055566733\n",
            "Root Mean Squared Error (RMSE): 0.47776603118646616\n",
            "R-squared (R2): 0.7699793495195044\n"
          ]
        },
        {
          "output_type": "display_data",
          "data": {
            "text/plain": [
              "<Figure size 640x480 with 1 Axes>"
            ],
            "image/png": "[encoded data removed]"
          },
          "metadata": {}
        },
        {
          "output_type": "display_data",
          "data": {
            "text/plain": [
              "<Figure size 640x480 with 1 Axes>"
            ],
            "image/png": "[encoded data removed]"
          },
          "metadata": {}
        }
      ]
    },
    {
      "cell_type": "markdown",
      "source": [
        "## **Desicion Tree**"
      ],
      "metadata": {
        "id": "o-zAjffx8mPe"
      }
    },
    {
      "cell_type": "code",
      "source": [
        "# Initialize the Decision Tree Regressor model\n",
        "decision_tree_reg = DecisionTreeRegressor(random_state=42)\n",
        "\n",
        "# Fit the model on the training data\n",
        "decision_tree_reg.fit(X_train, y_train)\n",
        "\n",
        "# Make predictions on the test data\n",
        "y_pred = decision_tree_reg.predict(X_test)\n",
        "\n",
        "# Evaluate the model\n",
        "mse = mean_squared_error(y_test, y_pred)\n",
        "rmse = mse**0.5\n",
        "mae = mean_absolute_error(y_test, y_pred)\n",
        "r2 = r2_score(y_test, y_pred)\n",
        "\n",
        "print(\"Mean Squared Error (MSE):\", mse)\n",
        "print(\"Root Mean Squared Error (RMSE):\", rmse)\n",
        "print(\"Mean Absolute Error (MAE):\", mae)\n",
        "print(\"R-squared (R2) Score:\", r2)\n",
        "\n",
        "plt.scatter(np.arange(len(y_test)), y_test, label='Actual', color='blue', marker='o')\n",
        "plt.scatter(np.arange(len(y_pred)), y_pred, label='Predicted', color='red', marker='x')\n",
        "plt.xlabel(\"Actual Values\")\n",
        "plt.ylabel(\"Predicted Values\")\n",
        "plt.title(\"Actual vs. Predicted Values\")\n",
        "plt.show()\n",
        "\n",
        "plt.scatter(y_test, y_test, c='b', label='Actual', alpha=0.5)  # Blue for actual\n",
        "plt.scatter(y_test, y_pred, c='r', label='Predicted', alpha=0.5)  # Red for predicted\n",
        "plt.xlabel(\"Actual Values\")\n",
        "plt.ylabel(\"Predicted Values\")\n",
        "plt.title(\"Actual vs. Predicted Values\")\n",
        "plt.legend(loc='upper left')\n",
        "plt.grid(True)\n",
        "plt.show()\n"
      ],
      "metadata": {
        "colab": {
          "base_uri": "https://localhost:8080/",
          "height": 1000
        },
        "id": "ZdOsB0W08MUx",
        "outputId": "549a9eb0-9310-4f7b-b489-5b09348ef461"
      },
      "execution_count": null,
      "outputs": [
        {
          "output_type": "stream",
          "name": "stdout",
          "text": [
            "Mean Squared Error (MSE): 0.07517618749751225\n",
            "Root Mean Squared Error (RMSE): 0.2741827629474768\n",
            "Mean Absolute Error (MAE): 0.1378050847726367\n",
            "R-squared (R2) Score: 0.9242440781587835\n"
          ]
        },
        {
          "output_type": "display_data",
          "data": {
            "text/plain": [
              "<Figure size 640x480 with 1 Axes>"
            ],
            "image/png": "[encoded data removed]"
          },
          "metadata": {}
        },
        {
          "output_type": "display_data",
          "data": {
            "text/plain": [
              "<Figure size 640x480 with 1 Axes>"
            ],
            "image/png": "[encoded data removed]"
          },
          "metadata": {}
        }
      ]
    },
    {
      "cell_type": "markdown",
      "source": [
        "## **Random Forest**"
      ],
      "metadata": {
        "id": "vo-hIipR88F2"
      }
    },
    {
      "cell_type": "code",
      "source": [
        "# Create and train the Linear Regression model\n",
        "model = RandomForestRegressor(n_estimators=100, max_depth=10, min_samples_split= 2, random_state=42)\n",
        "model.fit(X_train, y_train)\n",
        "\n",
        "# Make predictions on the test set\n",
        "y_pred = model.predict(X_test)\n",
        "\n",
        "# Evaluate the model\n",
        "mae = mean_absolute_error(y_test, y_pred)\n",
        "mse = mean_squared_error(y_test, y_pred)\n",
        "rmse = np.sqrt(mse)\n",
        "r2 = r2_score(y_test, y_pred)\n",
        "\n",
        "print(f\"Mean Absolute Error (MAE): {mae}\")\n",
        "print(f\"Mean Squared Error (MSE): {mse}\")\n",
        "print(f\"Root Mean Squared Error (RMSE): {rmse}\")\n",
        "print(f\"R-squared (R2): {r2}\")\n",
        "\n",
        "plt.scatter(np.arange(len(y_test)), y_test, label='Actual', color='blue', marker='o')\n",
        "plt.scatter(np.arange(len(y_pred)), y_pred, label='Predicted', color='red', marker='x')\n",
        "plt.xlabel(\"Actual Values\")\n",
        "plt.ylabel(\"Predicted Values\")\n",
        "plt.title(\"Actual vs. Predicted Values\")\n",
        "plt.show()\n",
        "\n",
        "# Assuming y_test contains the actual values and y_pred contains the predicted values\n",
        "\n",
        "plt.scatter(y_test, y_test, c='b', label='Actual', alpha=0.5)  # Blue for actual\n",
        "plt.scatter(y_test, y_pred, c='r', label='Predicted', alpha=0.5)  # Red for predicted\n",
        "plt.xlabel(\"Actual Values\")\n",
        "plt.ylabel(\"Predicted Values\")\n",
        "plt.title(\"Actual vs. Predicted Values\")\n",
        "plt.legend(loc='upper left')\n",
        "plt.grid(True)\n",
        "plt.show()"
      ],
      "metadata": {
        "colab": {
          "base_uri": "https://localhost:8080/",
          "height": 1000
        },
        "id": "ZagAUTh_8m-z",
        "outputId": "3df5a7a3-5641-4901-bebe-1e692e2b94fc"
      },
      "execution_count": null,
      "outputs": [
        {
          "output_type": "stream",
          "name": "stdout",
          "text": [
            "Mean Absolute Error (MAE): 0.17656783955687994\n",
            "Mean Squared Error (MSE): 0.0995148092421816\n",
            "Root Mean Squared Error (RMSE): 0.3154596792653248\n",
            "R-squared (R2): 0.8997177648674488\n"
          ]
        },
        {
          "output_type": "display_data",
          "data": {
            "text/plain": [
              "<Figure size 640x480 with 1 Axes>"
            ],
            "image/png": "[encoded data removed]"
          },
          "metadata": {}
        },
        {
          "output_type": "display_data",
          "data": {
            "text/plain": [
              "<Figure size 640x480 with 1 Axes>"
            ],
            "image/png": "[encoded data removed]"
          },
          "metadata": {}
        }
      ]
    },
    {
      "cell_type": "code",
      "source": [],
      "metadata": {
        "id": "DZXCAvlh8-bf"
      },
      "execution_count": null,
      "outputs": []
    }
  ]
}